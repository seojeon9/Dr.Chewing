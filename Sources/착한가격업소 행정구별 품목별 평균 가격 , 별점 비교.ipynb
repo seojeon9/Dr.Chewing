{
 "cells": [
  {
   "cell_type": "markdown",
   "metadata": {},
   "source": [
    "- 행정구별 품목별 평균 가격 / 별점 비교 -> 어느 구가 저렴하고 평이 좋은가!\n"
   ]
  },
  {
   "cell_type": "code",
   "execution_count": 1,
   "metadata": {},
   "outputs": [],
   "source": [
    "import pandas as pd\n",
    "import numpy as np"
   ]
  },
  {
   "cell_type": "code",
   "execution_count": 2,
   "metadata": {},
   "outputs": [],
   "source": [
    "import matplotlib.pyplot as plt #그래프 패키지 모듈 등록\n",
    "%matplotlib inline "
   ]
  },
  {
   "cell_type": "code",
   "execution_count": 3,
   "metadata": {},
   "outputs": [],
   "source": [
    "# 한글 문제\n",
    "# matplotlit의 기본 폰트에서 한글 지원되지 않기 때문에\n",
    "# matplotlib의 폰트 변경 필요\n",
    "import platform\n",
    "\n",
    "from matplotlib import font_manager, rc\n",
    "plt.rcParams['axes.unicode_minus'] = False\n",
    "\n",
    "if platform.system() == 'Darwin':  # 맥OS \n",
    "    rc('font', family='AppleGothic')\n",
    "elif platform.system() == 'Windows':  # 윈도우\n",
    "    path = \"c:/Windows/Fonts/malgun.ttf\"\n",
    "    font_name = font_manager.FontProperties(fname=path).get_name()\n",
    "    rc('font', family=font_name)\n",
    "else:\n",
    "    print('Unknown system...  sorry~~~')"
   ]
  },
  {
   "cell_type": "code",
   "execution_count": 4,
   "metadata": {},
   "outputs": [],
   "source": [
    "# 콘솔에서 모든 출력 허용하기\n",
    "from IPython.core.interactiveshell import InteractiveShell\n",
    "InteractiveShell.ast_node_interactivity=\"all\""
   ]
  },
  {
   "cell_type": "code",
   "execution_count": 5,
   "metadata": {},
   "outputs": [
    {
     "data": {
      "text/html": [
       "<div>\n",
       "<style scoped>\n",
       "    .dataframe tbody tr th:only-of-type {\n",
       "        vertical-align: middle;\n",
       "    }\n",
       "\n",
       "    .dataframe tbody tr th {\n",
       "        vertical-align: top;\n",
       "    }\n",
       "\n",
       "    .dataframe thead th {\n",
       "        text-align: right;\n",
       "    }\n",
       "</style>\n",
       "<table border=\"1\" class=\"dataframe\">\n",
       "  <thead>\n",
       "    <tr style=\"text-align: right;\">\n",
       "      <th></th>\n",
       "      <th>업소명</th>\n",
       "      <th>분류코드</th>\n",
       "      <th>분류코드명</th>\n",
       "      <th>업소 주소</th>\n",
       "      <th>업소 전화번호</th>\n",
       "      <th>찾아오시는 길</th>\n",
       "      <th>업소정보</th>\n",
       "      <th>자랑거리</th>\n",
       "      <th>추천수</th>\n",
       "      <th>기준년월</th>\n",
       "      <th>...</th>\n",
       "      <th>경도</th>\n",
       "      <th>행정구</th>\n",
       "      <th>행정동</th>\n",
       "      <th>검색명</th>\n",
       "      <th>식당아이디</th>\n",
       "      <th>별점</th>\n",
       "      <th>상품명</th>\n",
       "      <th>상품가격(일반)(원)</th>\n",
       "      <th>메뉴라벨링</th>\n",
       "      <th>외식비</th>\n",
       "    </tr>\n",
       "  </thead>\n",
       "  <tbody>\n",
       "    <tr>\n",
       "      <th>0</th>\n",
       "      <td>목우촌부추삼겹살</td>\n",
       "      <td>1</td>\n",
       "      <td>한식</td>\n",
       "      <td>서울특별시 관악구 남현1길 68-10 (남현동)</td>\n",
       "      <td>588-7399</td>\n",
       "      <td>전철 2호선 4호선 사당역에서 5번출구로 나오시면 (구)관악등기소쪽 먹자골목으로 5...</td>\n",
       "      <td>영업시간 : 오전 10시 ~ 오후 11시 30분 좌석수 : 44석 휴무일 : 연중무...</td>\n",
       "      <td>▷사당역 먹자골목에 위치 ▷김치찌개된장찌개 2010년부터 가격 동결 ▷친절업소</td>\n",
       "      <td>257</td>\n",
       "      <td>02월 21일</td>\n",
       "      <td>...</td>\n",
       "      <td>126.981090</td>\n",
       "      <td>관악구</td>\n",
       "      <td>남현동</td>\n",
       "      <td>관악구 남현동 목우촌부추삼겹살</td>\n",
       "      <td>21025096</td>\n",
       "      <td>4.36</td>\n",
       "      <td>냉동삼겹살</td>\n",
       "      <td>8000.0</td>\n",
       "      <td>삼겹살</td>\n",
       "      <td>18056</td>\n",
       "    </tr>\n",
       "    <tr>\n",
       "      <th>1</th>\n",
       "      <td>목우촌부추삼겹살</td>\n",
       "      <td>1</td>\n",
       "      <td>한식</td>\n",
       "      <td>서울특별시 관악구 남현1길 68-10 (남현동)</td>\n",
       "      <td>588-7399</td>\n",
       "      <td>전철 2호선 4호선 사당역에서 5번출구로 나오시면 (구)관악등기소쪽 먹자골목으로 5...</td>\n",
       "      <td>영업시간 : 오전 10시 ~ 오후 11시 30분 좌석수 : 44석 휴무일 : 연중무...</td>\n",
       "      <td>▷사당역 먹자골목에 위치 ▷김치찌개된장찌개 2010년부터 가격 동결 ▷친절업소</td>\n",
       "      <td>257</td>\n",
       "      <td>02월 21일</td>\n",
       "      <td>...</td>\n",
       "      <td>126.981090</td>\n",
       "      <td>관악구</td>\n",
       "      <td>남현동</td>\n",
       "      <td>관악구 남현동 목우촌부추삼겹살</td>\n",
       "      <td>21025096</td>\n",
       "      <td>4.36</td>\n",
       "      <td>생삼겹살</td>\n",
       "      <td>12000.0</td>\n",
       "      <td>삼겹살</td>\n",
       "      <td>18056</td>\n",
       "    </tr>\n",
       "    <tr>\n",
       "      <th>2</th>\n",
       "      <td>돌마리유황오리</td>\n",
       "      <td>1</td>\n",
       "      <td>한식</td>\n",
       "      <td>서울특별시 송파구 가락로 66 (석촌동)</td>\n",
       "      <td>423-6231</td>\n",
       "      <td>전철노선 : 8호선 송파역 4번출구에서 강남한의원 방면 도보 7분 버스노선 : 21...</td>\n",
       "      <td>영업시간 :10:00~23:00 예약 :가능 카드 :가능 좌석 :96석 배달 : 불...</td>\n",
       "      <td>친절 서비스</td>\n",
       "      <td>155</td>\n",
       "      <td>02월 21일</td>\n",
       "      <td>...</td>\n",
       "      <td>127.103618</td>\n",
       "      <td>송파구</td>\n",
       "      <td>석촌동</td>\n",
       "      <td>송파구 석촌동 돌마리유황오리</td>\n",
       "      <td>19997949</td>\n",
       "      <td>4.41</td>\n",
       "      <td>삼겹살(국내산/200g)</td>\n",
       "      <td>11000.0</td>\n",
       "      <td>삼겹살</td>\n",
       "      <td>18056</td>\n",
       "    </tr>\n",
       "    <tr>\n",
       "      <th>3</th>\n",
       "      <td>금강숯불생고기</td>\n",
       "      <td>1</td>\n",
       "      <td>한식</td>\n",
       "      <td>서울특별시 광진구 용마산로7길 9 (중곡동)</td>\n",
       "      <td>3437-9599</td>\n",
       "      <td>구 중곡2동사무소 뒤</td>\n",
       "      <td>영업시간 : 11:00~23:00 좌석수 : 40 휴무일 : 무 배달 : 예약 : ...</td>\n",
       "      <td>타 업소에 비해 가격이 저렴함</td>\n",
       "      <td>65</td>\n",
       "      <td>02월 21일</td>\n",
       "      <td>...</td>\n",
       "      <td>127.087090</td>\n",
       "      <td>광진구</td>\n",
       "      <td>중곡동</td>\n",
       "      <td>광진구 중곡동 금강숯불생고기</td>\n",
       "      <td>18800486</td>\n",
       "      <td>4.33</td>\n",
       "      <td>삼겹살</td>\n",
       "      <td>8000.0</td>\n",
       "      <td>삼겹살</td>\n",
       "      <td>18056</td>\n",
       "    </tr>\n",
       "    <tr>\n",
       "      <th>4</th>\n",
       "      <td>자매식당</td>\n",
       "      <td>1</td>\n",
       "      <td>한식</td>\n",
       "      <td>서울특별시 광진구 구의로 16 (구의동)</td>\n",
       "      <td>3437-8760</td>\n",
       "      <td>구의역 근처 서울광진 우체국 맞은편</td>\n",
       "      <td>영업시간 : 09:00 ~ 21:00 좌석수 : 30 휴무일 : 매주일요일 배달 :...</td>\n",
       "      <td>저렴한 가격</td>\n",
       "      <td>63</td>\n",
       "      <td>02월 21일</td>\n",
       "      <td>...</td>\n",
       "      <td>127.089551</td>\n",
       "      <td>광진구</td>\n",
       "      <td>구의동</td>\n",
       "      <td>광진구 구의동 자매식당</td>\n",
       "      <td>1492791228</td>\n",
       "      <td>4.59</td>\n",
       "      <td>삼겹살</td>\n",
       "      <td>12000.0</td>\n",
       "      <td>삼겹살</td>\n",
       "      <td>18056</td>\n",
       "    </tr>\n",
       "    <tr>\n",
       "      <th>...</th>\n",
       "      <td>...</td>\n",
       "      <td>...</td>\n",
       "      <td>...</td>\n",
       "      <td>...</td>\n",
       "      <td>...</td>\n",
       "      <td>...</td>\n",
       "      <td>...</td>\n",
       "      <td>...</td>\n",
       "      <td>...</td>\n",
       "      <td>...</td>\n",
       "      <td>...</td>\n",
       "      <td>...</td>\n",
       "      <td>...</td>\n",
       "      <td>...</td>\n",
       "      <td>...</td>\n",
       "      <td>...</td>\n",
       "      <td>...</td>\n",
       "      <td>...</td>\n",
       "      <td>...</td>\n",
       "      <td>...</td>\n",
       "      <td>...</td>\n",
       "    </tr>\n",
       "    <tr>\n",
       "      <th>582</th>\n",
       "      <td>엄마가</td>\n",
       "      <td>1</td>\n",
       "      <td>한식</td>\n",
       "      <td>서울특별시 관악구 신림로 280 1층(신림동)</td>\n",
       "      <td>NaN</td>\n",
       "      <td>서원역 1번출구에서 도보 3분</td>\n",
       "      <td>영업시간 : 월~목 11:00~21:00 금 11:00~18:00 일 11:00~2...</td>\n",
       "      <td>ㅇ 관악구 평균가보다 10%이상 저렴 ㅇ 친절하며 집밥 느낌의 메뉴로 구성</td>\n",
       "      <td>0</td>\n",
       "      <td>02월 21일</td>\n",
       "      <td>...</td>\n",
       "      <td>126.931471</td>\n",
       "      <td>관악구</td>\n",
       "      <td>신림동</td>\n",
       "      <td>관악구 신림동 엄마가</td>\n",
       "      <td>1464889020</td>\n",
       "      <td>4.79</td>\n",
       "      <td>김밥</td>\n",
       "      <td>2000.0</td>\n",
       "      <td>김밥</td>\n",
       "      <td>2969</td>\n",
       "    </tr>\n",
       "    <tr>\n",
       "      <th>583</th>\n",
       "      <td>먹깨비 김밥</td>\n",
       "      <td>1</td>\n",
       "      <td>한식</td>\n",
       "      <td>서울특별시 서울 강서구 강서로 39</td>\n",
       "      <td>02-2698-0123</td>\n",
       "      <td>NaN</td>\n",
       "      <td>영업시간 : 좌석수 : 휴무일 : 배달 : 예약 : 카드 : 주차 : 홈페이지 주소...</td>\n",
       "      <td>속 꽉차고 담백한 만두 8가지 이상의 재료가 들어간 신선한 김밥 학교 앞에서 먹던 ...</td>\n",
       "      <td>0</td>\n",
       "      <td>02월 21일</td>\n",
       "      <td>...</td>\n",
       "      <td>126.846695</td>\n",
       "      <td>강서구</td>\n",
       "      <td>화곡동</td>\n",
       "      <td>강서구 화곡동 먹깨비 김밥</td>\n",
       "      <td>1012261354</td>\n",
       "      <td>4.32</td>\n",
       "      <td>야채김밥</td>\n",
       "      <td>2000.0</td>\n",
       "      <td>김밥</td>\n",
       "      <td>2969</td>\n",
       "    </tr>\n",
       "    <tr>\n",
       "      <th>584</th>\n",
       "      <td>냠냠분식</td>\n",
       "      <td>1</td>\n",
       "      <td>한식</td>\n",
       "      <td>서울특별시 마포구 모래내로7길 89 1층 2호(성산동)</td>\n",
       "      <td>NaN</td>\n",
       "      <td>NaN</td>\n",
       "      <td>영업시간 : 좌석수 : 휴무일 : 배달 : 예약 : 카드 : 주차 : 홈페이지 주소...</td>\n",
       "      <td>NaN</td>\n",
       "      <td>0</td>\n",
       "      <td>02월 21일</td>\n",
       "      <td>...</td>\n",
       "      <td>126.908297</td>\n",
       "      <td>마포구</td>\n",
       "      <td>성산동</td>\n",
       "      <td>마포구 성산동 냠냠분식</td>\n",
       "      <td>1027469694</td>\n",
       "      <td>4.24</td>\n",
       "      <td>김밥</td>\n",
       "      <td>2500.0</td>\n",
       "      <td>김밥</td>\n",
       "      <td>2969</td>\n",
       "    </tr>\n",
       "    <tr>\n",
       "      <th>585</th>\n",
       "      <td>멸치국수</td>\n",
       "      <td>1</td>\n",
       "      <td>한식</td>\n",
       "      <td>서울특별시 도봉구 해등로16길 12(창동)</td>\n",
       "      <td>02-994-8233</td>\n",
       "      <td>창동역 2번출구에서 690m</td>\n",
       "      <td>영업시간 : 10:00-21:00 좌석수 : 휴무일 : 배달 : 불가능 예약 : 카...</td>\n",
       "      <td>도봉구보건소 사거리에 위치하며 가격이 저렴하고 맛이 좋음</td>\n",
       "      <td>0</td>\n",
       "      <td>02월 21일</td>\n",
       "      <td>...</td>\n",
       "      <td>127.040573</td>\n",
       "      <td>도봉구</td>\n",
       "      <td>창동</td>\n",
       "      <td>도봉구 창동 멸치국수</td>\n",
       "      <td>20846748</td>\n",
       "      <td>4.61</td>\n",
       "      <td>김밥</td>\n",
       "      <td>2500.0</td>\n",
       "      <td>김밥</td>\n",
       "      <td>2969</td>\n",
       "    </tr>\n",
       "    <tr>\n",
       "      <th>586</th>\n",
       "      <td>박리김밥</td>\n",
       "      <td>1</td>\n",
       "      <td>한식</td>\n",
       "      <td>서울특별시 도봉구 덕릉로 57길 22(창동)</td>\n",
       "      <td>02-907-7002</td>\n",
       "      <td>NaN</td>\n",
       "      <td>영업시간 : 09:00-21:00 좌석수 : 휴무일 : 배달 : 불가능 예약 : 카...</td>\n",
       "      <td>신창시장에 위치하였으며 대부분의 메뉴가 저렴하게 형성되었고 맛도 일품임</td>\n",
       "      <td>0</td>\n",
       "      <td>02월 21일</td>\n",
       "      <td>...</td>\n",
       "      <td>127.037375</td>\n",
       "      <td>도봉구</td>\n",
       "      <td>창동</td>\n",
       "      <td>도봉구 창동 박리김밥</td>\n",
       "      <td>1659527451</td>\n",
       "      <td>4.38</td>\n",
       "      <td>김밥</td>\n",
       "      <td>2000.0</td>\n",
       "      <td>김밥</td>\n",
       "      <td>2969</td>\n",
       "    </tr>\n",
       "  </tbody>\n",
       "</table>\n",
       "<p>587 rows × 22 columns</p>\n",
       "</div>"
      ],
      "text/plain": [
       "          업소명  분류코드 분류코드명                           업소 주소           업소 전화번호  \\\n",
       "0    목우촌부추삼겹살     1    한식      서울특별시 관악구 남현1길 68-10 (남현동)  588-7399           \n",
       "1    목우촌부추삼겹살     1    한식      서울특별시 관악구 남현1길 68-10 (남현동)  588-7399           \n",
       "2     돌마리유황오리     1    한식          서울특별시 송파구 가락로 66 (석촌동)          423-6231   \n",
       "3     금강숯불생고기     1    한식        서울특별시 광진구 용마산로7길 9 (중곡동)  3437-9599          \n",
       "4        자매식당     1    한식          서울특별시 광진구 구의로 16 (구의동)  3437-8760          \n",
       "..        ...   ...   ...                             ...               ...   \n",
       "582       엄마가     1    한식       서울특별시 관악구 신림로 280 1층(신림동)               NaN   \n",
       "583    먹깨비 김밥     1    한식             서울특별시 서울 강서구 강서로 39      02-2698-0123   \n",
       "584      냠냠분식     1    한식  서울특별시 마포구 모래내로7길 89 1층 2호(성산동)               NaN   \n",
       "585      멸치국수     1    한식         서울특별시 도봉구 해등로16길 12(창동)       02-994-8233   \n",
       "586      박리김밥     1    한식        서울특별시 도봉구 덕릉로 57길 22(창동)       02-907-7002   \n",
       "\n",
       "                                               찾아오시는 길  \\\n",
       "0    전철 2호선 4호선 사당역에서 5번출구로 나오시면 (구)관악등기소쪽 먹자골목으로 5...   \n",
       "1    전철 2호선 4호선 사당역에서 5번출구로 나오시면 (구)관악등기소쪽 먹자골목으로 5...   \n",
       "2    전철노선 : 8호선 송파역 4번출구에서 강남한의원 방면 도보 7분 버스노선 : 21...   \n",
       "3                                          구 중곡2동사무소 뒤   \n",
       "4                                  구의역 근처 서울광진 우체국 맞은편   \n",
       "..                                                 ...   \n",
       "582                                   서원역 1번출구에서 도보 3분   \n",
       "583                                                NaN   \n",
       "584                                                NaN   \n",
       "585                                    창동역 2번출구에서 690m   \n",
       "586                                                NaN   \n",
       "\n",
       "                                                  업소정보  \\\n",
       "0    영업시간 : 오전 10시 ~ 오후 11시 30분 좌석수 : 44석 휴무일 : 연중무...   \n",
       "1    영업시간 : 오전 10시 ~ 오후 11시 30분 좌석수 : 44석 휴무일 : 연중무...   \n",
       "2    영업시간 :10:00~23:00 예약 :가능 카드 :가능 좌석 :96석 배달 : 불...   \n",
       "3    영업시간 : 11:00~23:00 좌석수 : 40 휴무일 : 무 배달 : 예약 : ...   \n",
       "4    영업시간 : 09:00 ~ 21:00 좌석수 : 30 휴무일 : 매주일요일 배달 :...   \n",
       "..                                                 ...   \n",
       "582  영업시간 : 월~목 11:00~21:00 금 11:00~18:00 일 11:00~2...   \n",
       "583  영업시간 : 좌석수 : 휴무일 : 배달 : 예약 : 카드 : 주차 : 홈페이지 주소...   \n",
       "584  영업시간 : 좌석수 : 휴무일 : 배달 : 예약 : 카드 : 주차 : 홈페이지 주소...   \n",
       "585  영업시간 : 10:00-21:00 좌석수 : 휴무일 : 배달 : 불가능 예약 : 카...   \n",
       "586  영업시간 : 09:00-21:00 좌석수 : 휴무일 : 배달 : 불가능 예약 : 카...   \n",
       "\n",
       "                                                  자랑거리  추천수     기준년월  ...  \\\n",
       "0          ▷사당역 먹자골목에 위치 ▷김치찌개된장찌개 2010년부터 가격 동결 ▷친절업소  257  02월 21일  ...   \n",
       "1          ▷사당역 먹자골목에 위치 ▷김치찌개된장찌개 2010년부터 가격 동결 ▷친절업소  257  02월 21일  ...   \n",
       "2                                               친절 서비스  155  02월 21일  ...   \n",
       "3                                     타 업소에 비해 가격이 저렴함   65  02월 21일  ...   \n",
       "4                                               저렴한 가격   63  02월 21일  ...   \n",
       "..                                                 ...  ...      ...  ...   \n",
       "582          ㅇ 관악구 평균가보다 10%이상 저렴 ㅇ 친절하며 집밥 느낌의 메뉴로 구성    0  02월 21일  ...   \n",
       "583  속 꽉차고 담백한 만두 8가지 이상의 재료가 들어간 신선한 김밥 학교 앞에서 먹던 ...    0  02월 21일  ...   \n",
       "584                                                NaN    0  02월 21일  ...   \n",
       "585                    도봉구보건소 사거리에 위치하며 가격이 저렴하고 맛이 좋음    0  02월 21일  ...   \n",
       "586            신창시장에 위치하였으며 대부분의 메뉴가 저렴하게 형성되었고 맛도 일품임    0  02월 21일  ...   \n",
       "\n",
       "             경도  행정구  행정동               검색명       식당아이디    별점            상품명  \\\n",
       "0    126.981090  관악구  남현동  관악구 남현동 목우촌부추삼겹살    21025096  4.36          냉동삼겹살   \n",
       "1    126.981090  관악구  남현동  관악구 남현동 목우촌부추삼겹살    21025096  4.36           생삼겹살   \n",
       "2    127.103618  송파구  석촌동   송파구 석촌동 돌마리유황오리    19997949  4.41  삼겹살(국내산/200g)   \n",
       "3    127.087090  광진구  중곡동   광진구 중곡동 금강숯불생고기    18800486  4.33            삼겹살   \n",
       "4    127.089551  광진구  구의동      광진구 구의동 자매식당  1492791228  4.59            삼겹살   \n",
       "..          ...  ...  ...               ...         ...   ...            ...   \n",
       "582  126.931471  관악구  신림동       관악구 신림동 엄마가  1464889020  4.79             김밥   \n",
       "583  126.846695  강서구  화곡동    강서구 화곡동 먹깨비 김밥  1012261354  4.32           야채김밥   \n",
       "584  126.908297  마포구  성산동      마포구 성산동 냠냠분식  1027469694  4.24             김밥   \n",
       "585  127.040573  도봉구   창동       도봉구 창동 멸치국수    20846748  4.61             김밥   \n",
       "586  127.037375  도봉구   창동       도봉구 창동 박리김밥  1659527451  4.38             김밥   \n",
       "\n",
       "    상품가격(일반)(원) 메뉴라벨링    외식비  \n",
       "0        8000.0   삼겹살  18056  \n",
       "1       12000.0   삼겹살  18056  \n",
       "2       11000.0   삼겹살  18056  \n",
       "3        8000.0   삼겹살  18056  \n",
       "4       12000.0   삼겹살  18056  \n",
       "..          ...   ...    ...  \n",
       "582      2000.0    김밥   2969  \n",
       "583      2000.0    김밥   2969  \n",
       "584      2500.0    김밥   2969  \n",
       "585      2500.0    김밥   2969  \n",
       "586      2000.0    김밥   2969  \n",
       "\n",
       "[587 rows x 22 columns]"
      ]
     },
     "execution_count": 5,
     "metadata": {},
     "output_type": "execute_result"
    }
   ],
   "source": [
    "base_data = pd.read_csv('./datas/서울시 착한가격음식점(라벨링).csv', encoding='CP949', index_col=0)\n",
    "base_data"
   ]
  },
  {
   "cell_type": "code",
   "execution_count": 6,
   "metadata": {},
   "outputs": [
    {
     "data": {
      "text/plain": [
       "Index(['업소명', '분류코드', '분류코드명', '업소 주소', '업소 전화번호', '찾아오시는 길', '업소정보', '자랑거리',\n",
       "       '추천수', '기준년월', '업소 사진', '위도', '경도', '행정구', '행정동', '검색명', '식당아이디', '별점',\n",
       "       '상품명', '상품가격(일반)(원)', '메뉴라벨링', '외식비'],\n",
       "      dtype='object')"
      ]
     },
     "execution_count": 6,
     "metadata": {},
     "output_type": "execute_result"
    }
   ],
   "source": [
    "base_data.columns"
   ]
  },
  {
   "cell_type": "code",
   "execution_count": 7,
   "metadata": {},
   "outputs": [],
   "source": [
    "res_data = base_data[['업소명','행정구', '행정동','별점',\n",
    "       '상품명', '상품가격(일반)(원)', '메뉴라벨링']]"
   ]
  },
  {
   "cell_type": "code",
   "execution_count": 8,
   "metadata": {
    "scrolled": true
   },
   "outputs": [
    {
     "data": {
      "text/html": [
       "<div>\n",
       "<style scoped>\n",
       "    .dataframe tbody tr th:only-of-type {\n",
       "        vertical-align: middle;\n",
       "    }\n",
       "\n",
       "    .dataframe tbody tr th {\n",
       "        vertical-align: top;\n",
       "    }\n",
       "\n",
       "    .dataframe thead th {\n",
       "        text-align: right;\n",
       "    }\n",
       "</style>\n",
       "<table border=\"1\" class=\"dataframe\">\n",
       "  <thead>\n",
       "    <tr style=\"text-align: right;\">\n",
       "      <th></th>\n",
       "      <th>업소명</th>\n",
       "      <th>행정구</th>\n",
       "      <th>행정동</th>\n",
       "      <th>별점</th>\n",
       "      <th>상품명</th>\n",
       "      <th>상품가격(일반)(원)</th>\n",
       "      <th>메뉴라벨링</th>\n",
       "    </tr>\n",
       "  </thead>\n",
       "  <tbody>\n",
       "    <tr>\n",
       "      <th>0</th>\n",
       "      <td>목우촌부추삼겹살</td>\n",
       "      <td>관악구</td>\n",
       "      <td>남현동</td>\n",
       "      <td>4.36</td>\n",
       "      <td>냉동삼겹살</td>\n",
       "      <td>8000.0</td>\n",
       "      <td>삼겹살</td>\n",
       "    </tr>\n",
       "    <tr>\n",
       "      <th>1</th>\n",
       "      <td>목우촌부추삼겹살</td>\n",
       "      <td>관악구</td>\n",
       "      <td>남현동</td>\n",
       "      <td>4.36</td>\n",
       "      <td>생삼겹살</td>\n",
       "      <td>12000.0</td>\n",
       "      <td>삼겹살</td>\n",
       "    </tr>\n",
       "    <tr>\n",
       "      <th>2</th>\n",
       "      <td>돌마리유황오리</td>\n",
       "      <td>송파구</td>\n",
       "      <td>석촌동</td>\n",
       "      <td>4.41</td>\n",
       "      <td>삼겹살(국내산/200g)</td>\n",
       "      <td>11000.0</td>\n",
       "      <td>삼겹살</td>\n",
       "    </tr>\n",
       "    <tr>\n",
       "      <th>3</th>\n",
       "      <td>금강숯불생고기</td>\n",
       "      <td>광진구</td>\n",
       "      <td>중곡동</td>\n",
       "      <td>4.33</td>\n",
       "      <td>삼겹살</td>\n",
       "      <td>8000.0</td>\n",
       "      <td>삼겹살</td>\n",
       "    </tr>\n",
       "    <tr>\n",
       "      <th>4</th>\n",
       "      <td>자매식당</td>\n",
       "      <td>광진구</td>\n",
       "      <td>구의동</td>\n",
       "      <td>4.59</td>\n",
       "      <td>삼겹살</td>\n",
       "      <td>12000.0</td>\n",
       "      <td>삼겹살</td>\n",
       "    </tr>\n",
       "  </tbody>\n",
       "</table>\n",
       "</div>"
      ],
      "text/plain": [
       "        업소명  행정구  행정동    별점            상품명  상품가격(일반)(원) 메뉴라벨링\n",
       "0  목우촌부추삼겹살  관악구  남현동  4.36          냉동삼겹살       8000.0   삼겹살\n",
       "1  목우촌부추삼겹살  관악구  남현동  4.36           생삼겹살      12000.0   삼겹살\n",
       "2   돌마리유황오리  송파구  석촌동  4.41  삼겹살(국내산/200g)      11000.0   삼겹살\n",
       "3   금강숯불생고기  광진구  중곡동  4.33            삼겹살       8000.0   삼겹살\n",
       "4      자매식당  광진구  구의동  4.59            삼겹살      12000.0   삼겹살"
      ]
     },
     "execution_count": 8,
     "metadata": {},
     "output_type": "execute_result"
    }
   ],
   "source": [
    "res_data.head()"
   ]
  },
  {
   "cell_type": "code",
   "execution_count": 9,
   "metadata": {},
   "outputs": [
    {
     "data": {
      "text/plain": [
       "441"
      ]
     },
     "execution_count": 9,
     "metadata": {},
     "output_type": "execute_result"
    }
   ],
   "source": [
    "# 별점 없는 raw 삭제\n",
    "star_none = res_data[res_data['별점']=='-'].index\n",
    "star_none_data = res_data.drop(star_none)\n",
    "len(star_none_data)"
   ]
  },
  {
   "cell_type": "code",
   "execution_count": 10,
   "metadata": {
    "scrolled": true
   },
   "outputs": [
    {
     "data": {
      "text/html": [
       "<div>\n",
       "<style scoped>\n",
       "    .dataframe tbody tr th:only-of-type {\n",
       "        vertical-align: middle;\n",
       "    }\n",
       "\n",
       "    .dataframe tbody tr th {\n",
       "        vertical-align: top;\n",
       "    }\n",
       "\n",
       "    .dataframe thead th {\n",
       "        text-align: right;\n",
       "    }\n",
       "</style>\n",
       "<table border=\"1\" class=\"dataframe\">\n",
       "  <thead>\n",
       "    <tr style=\"text-align: right;\">\n",
       "      <th></th>\n",
       "      <th>업소명</th>\n",
       "      <th>행정구</th>\n",
       "      <th>행정동</th>\n",
       "      <th>별점</th>\n",
       "      <th>상품명</th>\n",
       "      <th>상품가격(일반)(원)</th>\n",
       "      <th>메뉴라벨링</th>\n",
       "    </tr>\n",
       "  </thead>\n",
       "  <tbody>\n",
       "    <tr>\n",
       "      <th>0</th>\n",
       "      <td>목우촌부추삼겹살</td>\n",
       "      <td>관악구</td>\n",
       "      <td>남현동</td>\n",
       "      <td>4.36</td>\n",
       "      <td>냉동삼겹살</td>\n",
       "      <td>8000.0</td>\n",
       "      <td>삼겹살</td>\n",
       "    </tr>\n",
       "    <tr>\n",
       "      <th>1</th>\n",
       "      <td>목우촌부추삼겹살</td>\n",
       "      <td>관악구</td>\n",
       "      <td>남현동</td>\n",
       "      <td>4.36</td>\n",
       "      <td>생삼겹살</td>\n",
       "      <td>12000.0</td>\n",
       "      <td>삼겹살</td>\n",
       "    </tr>\n",
       "    <tr>\n",
       "      <th>2</th>\n",
       "      <td>돌마리유황오리</td>\n",
       "      <td>송파구</td>\n",
       "      <td>석촌동</td>\n",
       "      <td>4.41</td>\n",
       "      <td>삼겹살(국내산/200g)</td>\n",
       "      <td>11000.0</td>\n",
       "      <td>삼겹살</td>\n",
       "    </tr>\n",
       "    <tr>\n",
       "      <th>3</th>\n",
       "      <td>금강숯불생고기</td>\n",
       "      <td>광진구</td>\n",
       "      <td>중곡동</td>\n",
       "      <td>4.33</td>\n",
       "      <td>삼겹살</td>\n",
       "      <td>8000.0</td>\n",
       "      <td>삼겹살</td>\n",
       "    </tr>\n",
       "    <tr>\n",
       "      <th>4</th>\n",
       "      <td>자매식당</td>\n",
       "      <td>광진구</td>\n",
       "      <td>구의동</td>\n",
       "      <td>4.59</td>\n",
       "      <td>삼겹살</td>\n",
       "      <td>12000.0</td>\n",
       "      <td>삼겹살</td>\n",
       "    </tr>\n",
       "  </tbody>\n",
       "</table>\n",
       "</div>"
      ],
      "text/plain": [
       "        업소명  행정구  행정동    별점            상품명  상품가격(일반)(원) 메뉴라벨링\n",
       "0  목우촌부추삼겹살  관악구  남현동  4.36          냉동삼겹살       8000.0   삼겹살\n",
       "1  목우촌부추삼겹살  관악구  남현동  4.36           생삼겹살      12000.0   삼겹살\n",
       "2   돌마리유황오리  송파구  석촌동  4.41  삼겹살(국내산/200g)      11000.0   삼겹살\n",
       "3   금강숯불생고기  광진구  중곡동  4.33            삼겹살       8000.0   삼겹살\n",
       "4      자매식당  광진구  구의동  4.59            삼겹살      12000.0   삼겹살"
      ]
     },
     "execution_count": 10,
     "metadata": {},
     "output_type": "execute_result"
    }
   ],
   "source": [
    "star_none_data.head()"
   ]
  },
  {
   "cell_type": "code",
   "execution_count": 24,
   "metadata": {},
   "outputs": [],
   "source": [
    "star_none_data['별점'] = pd.to_numeric(star_none_data['별점'])"
   ]
  },
  {
   "cell_type": "code",
   "execution_count": 25,
   "metadata": {},
   "outputs": [
    {
     "data": {
      "text/plain": [
       "<matplotlib.axes._subplots.AxesSubplot at 0x1b7b3cbe550>"
      ]
     },
     "execution_count": 25,
     "metadata": {},
     "output_type": "execute_result"
    },
    {
     "data": {
      "text/plain": [
       "Text(0.5, 1.0, '행정구별 착한가격업소 별점 분포')"
      ]
     },
     "execution_count": 25,
     "metadata": {},
     "output_type": "execute_result"
    },
    {
     "data": {
      "image/png": "[encoded data removed]",
      "text/plain": [
       "<Figure size 1080x432 with 1 Axes>"
      ]
     },
     "metadata": {
      "needs_background": "light"
     },
     "output_type": "display_data"
    }
   ],
   "source": [
    "star_none_data.plot(kind='scatter',x='행정구',y='별점',figsize=(15,6))\n",
    "plt.title('행정구별 착한가격업소 별점 분포')"
   ]
  },
  {
   "cell_type": "code",
   "execution_count": 27,
   "metadata": {},
   "outputs": [
    {
     "data": {
      "text/plain": [
       "<matplotlib.axes._subplots.AxesSubplot at 0x1b7b3d268e0>"
      ]
     },
     "execution_count": 27,
     "metadata": {},
     "output_type": "execute_result"
    },
    {
     "data": {
      "text/plain": [
       "Text(0.5, 1.0, '행정구별 착한가격업소 상품가격 분포')"
      ]
     },
     "execution_count": 27,
     "metadata": {},
     "output_type": "execute_result"
    },
    {
     "data": {
      "image/png": "[encoded data removed]",
      "text/plain": [
       "<Figure size 1080x432 with 1 Axes>"
      ]
     },
     "metadata": {
      "needs_background": "light"
     },
     "output_type": "display_data"
    }
   ],
   "source": [
    "star_none_data.plot(kind='scatter',x='행정구',y='상품가격(일반)(원)',figsize=(15,6))\n",
    "plt.title('행정구별 착한가격업소 상품가격 분포')"
   ]
  },
  {
   "cell_type": "markdown",
   "metadata": {},
   "source": [
    "### 각 행정구별 품목별 평균 가격 / 별점 비교"
   ]
  },
  {
   "cell_type": "code",
   "execution_count": 32,
   "metadata": {},
   "outputs": [],
   "source": [
    "naeng_table = star_none_data[star_none_data['메뉴라벨링']=='냉면']\n",
    "bi_table = star_none_data[star_none_data['메뉴라벨링']=='비빔밥']\n",
    "kimchi_table = star_none_data[star_none_data['메뉴라벨링']=='김치찌개백반']\n",
    "samgyeop_table = star_none_data[star_none_data['메뉴라벨링']=='삼겹살']\n",
    "ja_table = star_none_data[star_none_data['메뉴라벨링']=='자장면']\n",
    "samgye_table = star_none_data[star_none_data['메뉴라벨링']=='삼계탕']\n",
    "kal_table = star_none_data[star_none_data['메뉴라벨링']=='칼국수']\n",
    "kimbab_table = star_none_data[star_none_data['메뉴라벨링']=='김밥']"
   ]
  },
  {
   "cell_type": "code",
   "execution_count": 46,
   "metadata": {},
   "outputs": [
    {
     "data": {
      "text/plain": [
       "68"
      ]
     },
     "execution_count": 46,
     "metadata": {},
     "output_type": "execute_result"
    }
   ],
   "source": [
    "len(naeng_table)"
   ]
  },
  {
   "cell_type": "code",
   "execution_count": 47,
   "metadata": {},
   "outputs": [
    {
     "data": {
      "text/html": [
       "<div>\n",
       "<style scoped>\n",
       "    .dataframe tbody tr th:only-of-type {\n",
       "        vertical-align: middle;\n",
       "    }\n",
       "\n",
       "    .dataframe tbody tr th {\n",
       "        vertical-align: top;\n",
       "    }\n",
       "\n",
       "    .dataframe thead th {\n",
       "        text-align: right;\n",
       "    }\n",
       "</style>\n",
       "<table border=\"1\" class=\"dataframe\">\n",
       "  <thead>\n",
       "    <tr style=\"text-align: right;\">\n",
       "      <th></th>\n",
       "      <th>업소명</th>\n",
       "      <th>행정구</th>\n",
       "      <th>행정동</th>\n",
       "      <th>별점</th>\n",
       "      <th>상품명</th>\n",
       "      <th>상품가격(일반)(원)</th>\n",
       "      <th>메뉴라벨링</th>\n",
       "    </tr>\n",
       "  </thead>\n",
       "  <tbody>\n",
       "    <tr>\n",
       "      <th>103</th>\n",
       "      <td>목우촌부추삼겹살</td>\n",
       "      <td>관악구</td>\n",
       "      <td>남현동</td>\n",
       "      <td>4.36</td>\n",
       "      <td>냉면(물)</td>\n",
       "      <td>5000.0</td>\n",
       "      <td>냉면</td>\n",
       "    </tr>\n",
       "    <tr>\n",
       "      <th>105</th>\n",
       "      <td>왕세숫대야냉면(행복을파는집)</td>\n",
       "      <td>강서구</td>\n",
       "      <td>등촌동</td>\n",
       "      <td>4.44</td>\n",
       "      <td>냉면</td>\n",
       "      <td>3500.0</td>\n",
       "      <td>냉면</td>\n",
       "    </tr>\n",
       "    <tr>\n",
       "      <th>106</th>\n",
       "      <td>돌마리유황오리</td>\n",
       "      <td>송파구</td>\n",
       "      <td>석촌동</td>\n",
       "      <td>4.41</td>\n",
       "      <td>물냉면</td>\n",
       "      <td>5000.0</td>\n",
       "      <td>냉면</td>\n",
       "    </tr>\n",
       "    <tr>\n",
       "      <th>107</th>\n",
       "      <td>벧엘 칼국수</td>\n",
       "      <td>송파구</td>\n",
       "      <td>마천동</td>\n",
       "      <td>4.12</td>\n",
       "      <td>물냉면</td>\n",
       "      <td>4000.0</td>\n",
       "      <td>냉면</td>\n",
       "    </tr>\n",
       "    <tr>\n",
       "      <th>108</th>\n",
       "      <td>흥부농장</td>\n",
       "      <td>광진구</td>\n",
       "      <td>자양동</td>\n",
       "      <td>4.24</td>\n",
       "      <td>냉면</td>\n",
       "      <td>4000.0</td>\n",
       "      <td>냉면</td>\n",
       "    </tr>\n",
       "  </tbody>\n",
       "</table>\n",
       "</div>"
      ],
      "text/plain": [
       "                 업소명  행정구  행정동    별점    상품명  상품가격(일반)(원) 메뉴라벨링\n",
       "103         목우촌부추삼겹살  관악구  남현동  4.36  냉면(물)       5000.0    냉면\n",
       "105  왕세숫대야냉면(행복을파는집)  강서구  등촌동  4.44     냉면       3500.0    냉면\n",
       "106          돌마리유황오리  송파구  석촌동  4.41    물냉면       5000.0    냉면\n",
       "107           벧엘 칼국수  송파구  마천동  4.12    물냉면       4000.0    냉면\n",
       "108             흥부농장  광진구  자양동  4.24     냉면       4000.0    냉면"
      ]
     },
     "execution_count": 47,
     "metadata": {},
     "output_type": "execute_result"
    }
   ],
   "source": [
    "naeng_table.head()"
   ]
  },
  {
   "cell_type": "markdown",
   "metadata": {},
   "source": [
    "- 각 행정구별 품목별 별점 비교"
   ]
  },
  {
   "cell_type": "code",
   "execution_count": 36,
   "metadata": {
    "scrolled": true
   },
   "outputs": [
    {
     "data": {
      "text/plain": [
       "<matplotlib.axes._subplots.AxesSubplot at 0x1b7b569e100>"
      ]
     },
     "execution_count": 36,
     "metadata": {},
     "output_type": "execute_result"
    },
    {
     "data": {
      "text/plain": [
       "Text(0.5, 1.0, '각 행정구별 냉면 별점 평균')"
      ]
     },
     "execution_count": 36,
     "metadata": {},
     "output_type": "execute_result"
    },
    {
     "data": {
      "text/plain": [
       "(3.0, 5.0)"
      ]
     },
     "execution_count": 36,
     "metadata": {},
     "output_type": "execute_result"
    },
    {
     "data": {
      "text/plain": [
       "<matplotlib.axes._subplots.AxesSubplot at 0x1b7b4f4e790>"
      ]
     },
     "execution_count": 36,
     "metadata": {},
     "output_type": "execute_result"
    },
    {
     "data": {
      "text/plain": [
       "Text(0.5, 1.0, '각 행정구별 비빔밥 별점 평균')"
      ]
     },
     "execution_count": 36,
     "metadata": {},
     "output_type": "execute_result"
    },
    {
     "data": {
      "text/plain": [
       "(3.0, 5.0)"
      ]
     },
     "execution_count": 36,
     "metadata": {},
     "output_type": "execute_result"
    },
    {
     "data": {
      "text/plain": [
       "<matplotlib.axes._subplots.AxesSubplot at 0x1b7b4f4b700>"
      ]
     },
     "execution_count": 36,
     "metadata": {},
     "output_type": "execute_result"
    },
    {
     "data": {
      "text/plain": [
       "Text(0.5, 1.0, '각 행정구별 김치찌개백반 별점 평균')"
      ]
     },
     "execution_count": 36,
     "metadata": {},
     "output_type": "execute_result"
    },
    {
     "data": {
      "text/plain": [
       "(3.0, 5.0)"
      ]
     },
     "execution_count": 36,
     "metadata": {},
     "output_type": "execute_result"
    },
    {
     "data": {
      "text/plain": [
       "<matplotlib.axes._subplots.AxesSubplot at 0x1b7b55a56d0>"
      ]
     },
     "execution_count": 36,
     "metadata": {},
     "output_type": "execute_result"
    },
    {
     "data": {
      "text/plain": [
       "Text(0.5, 1.0, '각 행정구별 삼겹살 별점 평균')"
      ]
     },
     "execution_count": 36,
     "metadata": {},
     "output_type": "execute_result"
    },
    {
     "data": {
      "text/plain": [
       "(3.0, 5.0)"
      ]
     },
     "execution_count": 36,
     "metadata": {},
     "output_type": "execute_result"
    },
    {
     "data": {
      "text/plain": [
       "<matplotlib.axes._subplots.AxesSubplot at 0x1b7b5d197f0>"
      ]
     },
     "execution_count": 36,
     "metadata": {},
     "output_type": "execute_result"
    },
    {
     "data": {
      "text/plain": [
       "Text(0.5, 1.0, '각 행정구별 자장면 별점 평균')"
      ]
     },
     "execution_count": 36,
     "metadata": {},
     "output_type": "execute_result"
    },
    {
     "data": {
      "text/plain": [
       "(3.0, 5.0)"
      ]
     },
     "execution_count": 36,
     "metadata": {},
     "output_type": "execute_result"
    },
    {
     "data": {
      "text/plain": [
       "<matplotlib.axes._subplots.AxesSubplot at 0x1b7b5d29eb0>"
      ]
     },
     "execution_count": 36,
     "metadata": {},
     "output_type": "execute_result"
    },
    {
     "data": {
      "text/plain": [
       "Text(0.5, 1.0, '각 행정구별 칼국수 별점 평균')"
      ]
     },
     "execution_count": 36,
     "metadata": {},
     "output_type": "execute_result"
    },
    {
     "data": {
      "text/plain": [
       "(3.0, 5.0)"
      ]
     },
     "execution_count": 36,
     "metadata": {},
     "output_type": "execute_result"
    },
    {
     "data": {
      "text/plain": [
       "<matplotlib.axes._subplots.AxesSubplot at 0x1b7b5898280>"
      ]
     },
     "execution_count": 36,
     "metadata": {},
     "output_type": "execute_result"
    },
    {
     "data": {
      "text/plain": [
       "Text(0.5, 1.0, '각 행정구별 김밥 별점 평균')"
      ]
     },
     "execution_count": 36,
     "metadata": {},
     "output_type": "execute_result"
    },
    {
     "data": {
      "text/plain": [
       "(3.0, 5.0)"
      ]
     },
     "execution_count": 36,
     "metadata": {},
     "output_type": "execute_result"
    },
    {
     "data": {
      "image/png": "[encoded data removed]",
      "text/plain": [
       "<Figure size 1080x432 with 1 Axes>"
      ]
     },
     "metadata": {
      "needs_background": "light"
     },
     "output_type": "display_data"
    },
    {
     "data": {
      "image/png": "[encoded data removed]",
      "text/plain": [
       "<Figure size 1080x432 with 1 Axes>"
      ]
     },
     "metadata": {
      "needs_background": "light"
     },
     "output_type": "display_data"
    },
    {
     "data": {
      "image/png": "[encoded data removed]",
      "text/plain": [
       "<Figure size 1080x432 with 1 Axes>"
      ]
     },
     "metadata": {
      "needs_background": "light"
     },
     "output_type": "display_data"
    },
    {
     "data": {
      "image/png": "[encoded data removed]",
      "text/plain": [
       "<Figure size 1080x432 with 1 Axes>"
      ]
     },
     "metadata": {
      "needs_background": "light"
     },
     "output_type": "display_data"
    },
    {
     "data": {
      "image/png": "[encoded data removed]",
      "text/plain": [
       "<Figure size 1080x432 with 1 Axes>"
      ]
     },
     "metadata": {
      "needs_background": "light"
     },
     "output_type": "display_data"
    },
    {
     "data": {
      "image/png": "[encoded data removed]",
      "text/plain": [
       "<Figure size 1080x432 with 1 Axes>"
      ]
     },
     "metadata": {
      "needs_background": "light"
     },
     "output_type": "display_data"
    },
    {
     "data": {
      "image/png": "[encoded data removed]",
      "text/plain": [
       "<Figure size 1080x432 with 1 Axes>"
      ]
     },
     "metadata": {
      "needs_background": "light"
     },
     "output_type": "display_data"
    }
   ],
   "source": [
    "# naeng bi kimchi samgyeop ja samgye kal kimbab\n",
    "# 냉면\n",
    "naeng_star_pivot_table = naeng_table.pivot_table(\"별점\",index=[\"행정구\"]).sort_values(by=\"별점\")\n",
    "\n",
    "naeng_star_pivot_table.plot(kind='bar', grid=True, figsize=(15,6))\n",
    "plt.title('각 행정구별 냉면 별점 평균')\n",
    "plt.ylim([3,5])\n",
    "# 비빔밥\n",
    "bi_star_pivot_table = bi_table.pivot_table(\"별점\",index=[\"행정구\"]).sort_values(by=\"별점\")\n",
    "\n",
    "bi_star_pivot_table.plot(kind='bar', grid=True, figsize=(15,6))\n",
    "plt.title('각 행정구별 비빔밥 별점 평균')\n",
    "plt.ylim([3,5])\n",
    "# 김치찌개백반\n",
    "kimchi_star_pivot_table = kimchi_table.pivot_table(\"별점\",index=[\"행정구\"]).sort_values(by=\"별점\")\n",
    "\n",
    "kimchi_star_pivot_table.plot(kind='bar', grid=True, figsize=(15,6))\n",
    "plt.title('각 행정구별 김치찌개백반 별점 평균')\n",
    "plt.ylim([3,5])\n",
    "# 삼겹살\n",
    "samgyeop_star_pivot_table = samgyeop_table.pivot_table(\"별점\",index=[\"행정구\"]).sort_values(by=\"별점\")\n",
    "\n",
    "samgyeop_star_pivot_table.plot(kind='bar', grid=True, figsize=(15,6))\n",
    "plt.title('각 행정구별 삼겹살 별점 평균')\n",
    "plt.ylim([3,5])\n",
    "# 자장면\n",
    "ja_star_pivot_table = ja_table.pivot_table(\"별점\",index=[\"행정구\"]).sort_values(by=\"별점\")\n",
    "\n",
    "ja_star_pivot_table.plot(kind='bar', grid=True, figsize=(15,6))\n",
    "plt.title('각 행정구별 자장면 별점 평균')\n",
    "plt.ylim([3,5])\n",
    "# 칼국수\n",
    "kal_star_pivot_table = kal_table.pivot_table(\"별점\",index=[\"행정구\"]).sort_values(by=\"별점\")\n",
    "\n",
    "kal_star_pivot_table.plot(kind='bar', grid=True, figsize=(15,6))\n",
    "plt.title('각 행정구별 칼국수 별점 평균')\n",
    "plt.ylim([3,5])\n",
    "# 김밥\n",
    "kimbab_star_pivot_table = kimbab_table.pivot_table(\"별점\",index=[\"행정구\"]).sort_values(by=\"별점\")\n",
    "\n",
    "kimbab_star_pivot_table.plot(kind='bar', grid=True, figsize=(15,6))\n",
    "plt.title('각 행정구별 김밥 별점 평균')\n",
    "plt.ylim([3,5])"
   ]
  },
  {
   "cell_type": "markdown",
   "metadata": {},
   "source": [
    "- 각 행정구별 품목별 가격 평균 비교"
   ]
  },
  {
   "cell_type": "code",
   "execution_count": 37,
   "metadata": {
    "scrolled": true
   },
   "outputs": [
    {
     "data": {
      "text/plain": [
       "<matplotlib.axes._subplots.AxesSubplot at 0x1b7b5250820>"
      ]
     },
     "execution_count": 37,
     "metadata": {},
     "output_type": "execute_result"
    },
    {
     "data": {
      "text/plain": [
       "Text(0.5, 1.0, '각 행정구별 냉면 가격 평균')"
      ]
     },
     "execution_count": 37,
     "metadata": {},
     "output_type": "execute_result"
    },
    {
     "data": {
      "text/plain": [
       "<matplotlib.axes._subplots.AxesSubplot at 0x1b7b4e79dc0>"
      ]
     },
     "execution_count": 37,
     "metadata": {},
     "output_type": "execute_result"
    },
    {
     "data": {
      "text/plain": [
       "Text(0.5, 1.0, '각 행정구별 비빔밥 가격 평균')"
      ]
     },
     "execution_count": 37,
     "metadata": {},
     "output_type": "execute_result"
    },
    {
     "data": {
      "text/plain": [
       "<matplotlib.axes._subplots.AxesSubplot at 0x1b7b388c5b0>"
      ]
     },
     "execution_count": 37,
     "metadata": {},
     "output_type": "execute_result"
    },
    {
     "data": {
      "text/plain": [
       "Text(0.5, 1.0, '각 행정구별 김치찌개백반 가격 평균')"
      ]
     },
     "execution_count": 37,
     "metadata": {},
     "output_type": "execute_result"
    },
    {
     "data": {
      "text/plain": [
       "<matplotlib.axes._subplots.AxesSubplot at 0x1b7b3d8fc10>"
      ]
     },
     "execution_count": 37,
     "metadata": {},
     "output_type": "execute_result"
    },
    {
     "data": {
      "text/plain": [
       "Text(0.5, 1.0, '각 행정구별 삼겹살 가격 평균')"
      ]
     },
     "execution_count": 37,
     "metadata": {},
     "output_type": "execute_result"
    },
    {
     "data": {
      "text/plain": [
       "<matplotlib.axes._subplots.AxesSubplot at 0x1b7b634ab80>"
      ]
     },
     "execution_count": 37,
     "metadata": {},
     "output_type": "execute_result"
    },
    {
     "data": {
      "text/plain": [
       "Text(0.5, 1.0, '각 행정구별 자장면 가격 평균')"
      ]
     },
     "execution_count": 37,
     "metadata": {},
     "output_type": "execute_result"
    },
    {
     "data": {
      "text/plain": [
       "<matplotlib.axes._subplots.AxesSubplot at 0x1b7b61da040>"
      ]
     },
     "execution_count": 37,
     "metadata": {},
     "output_type": "execute_result"
    },
    {
     "data": {
      "text/plain": [
       "Text(0.5, 1.0, '각 행정구별 칼국수 가격 평균')"
      ]
     },
     "execution_count": 37,
     "metadata": {},
     "output_type": "execute_result"
    },
    {
     "data": {
      "text/plain": [
       "<matplotlib.axes._subplots.AxesSubplot at 0x1b7b56e7610>"
      ]
     },
     "execution_count": 37,
     "metadata": {},
     "output_type": "execute_result"
    },
    {
     "data": {
      "text/plain": [
       "Text(0.5, 1.0, '각 행정구별 김밥 가격 평균')"
      ]
     },
     "execution_count": 37,
     "metadata": {},
     "output_type": "execute_result"
    },
    {
     "data": {
      "image/png": "[encoded data removed]",
      "text/plain": [
       "<Figure size 1080x432 with 1 Axes>"
      ]
     },
     "metadata": {
      "needs_background": "light"
     },
     "output_type": "display_data"
    },
    {
     "data": {
      "image/png": "[encoded data removed]",
      "text/plain": [
       "<Figure size 1080x432 with 1 Axes>"
      ]
     },
     "metadata": {
      "needs_background": "light"
     },
     "output_type": "display_data"
    },
    {
     "data": {
      "image/png": "[encoded data removed]",
      "text/plain": [
       "<Figure size 1080x432 with 1 Axes>"
      ]
     },
     "metadata": {
      "needs_background": "light"
     },
     "output_type": "display_data"
    },
    {
     "data": {
      "image/png": "[encoded data removed]",
      "text/plain": [
       "<Figure size 1080x432 with 1 Axes>"
      ]
     },
     "metadata": {
      "needs_background": "light"
     },
     "output_type": "display_data"
    },
    {
     "data": {
      "image/png": "[encoded data removed]",
      "text/plain": [
       "<Figure size 1080x432 with 1 Axes>"
      ]
     },
     "metadata": {
      "needs_background": "light"
     },
     "output_type": "display_data"
    },
    {
     "data": {
      "image/png": "[encoded data removed]",
      "text/plain": [
       "<Figure size 1080x432 with 1 Axes>"
      ]
     },
     "metadata": {
      "needs_background": "light"
     },
     "output_type": "display_data"
    },
    {
     "data": {
      "image/png": "[encoded data removed]",
      "text/plain": [
       "<Figure size 1080x432 with 1 Axes>"
      ]
     },
     "metadata": {
      "needs_background": "light"
     },
     "output_type": "display_data"
    }
   ],
   "source": [
    "# 냉면\n",
    "naeng_price_pivot_table = naeng_table.pivot_table(\"상품가격(일반)(원)\",index=[\"행정구\"]).sort_values(by=\"상품가격(일반)(원)\")\n",
    "\n",
    "naeng_price_pivot_table.plot(kind='bar', grid=True, figsize=(15,6), )\n",
    "plt.title('각 행정구별 냉면 가격 평균')\n",
    "# 비빔밥\n",
    "bi_price_pivot_table = bi_table.pivot_table(\"상품가격(일반)(원)\",index=[\"행정구\"]).sort_values(by=\"상품가격(일반)(원)\")\n",
    "\n",
    "bi_price_pivot_table.plot(kind='bar', grid=True, figsize=(15,6))\n",
    "plt.title('각 행정구별 비빔밥 가격 평균')\n",
    "# 김치찌개백반\n",
    "kimchi_price_pivot_table = kimchi_table.pivot_table(\"상품가격(일반)(원)\",index=[\"행정구\"]).sort_values(by=\"상품가격(일반)(원)\")\n",
    "\n",
    "kimchi_price_pivot_table.plot(kind='bar', grid=True, figsize=(15,6))\n",
    "plt.title('각 행정구별 김치찌개백반 가격 평균')\n",
    "# 삼겹살\n",
    "samgyeop_price_pivot_table = samgyeop_table.pivot_table(\"상품가격(일반)(원)\",index=[\"행정구\"]).sort_values(by=\"상품가격(일반)(원)\")\n",
    "\n",
    "samgyeop_price_pivot_table.plot(kind='bar', grid=True, figsize=(15,6))\n",
    "plt.title('각 행정구별 삼겹살 가격 평균')\n",
    "# 자장면\n",
    "ja_price_pivot_table = ja_table.pivot_table(\"상품가격(일반)(원)\",index=[\"행정구\"]).sort_values(by=\"상품가격(일반)(원)\")\n",
    "\n",
    "ja_price_pivot_table.plot(kind='bar', grid=True, figsize=(15,6))\n",
    "plt.title('각 행정구별 자장면 가격 평균')\n",
    "# 칼국수\n",
    "kal_price_pivot_table = kal_table.pivot_table(\"상품가격(일반)(원)\",index=[\"행정구\"]).sort_values(by=\"상품가격(일반)(원)\")\n",
    "\n",
    "kal_price_pivot_table.plot(kind='bar', grid=True, figsize=(15,6))\n",
    "plt.title('각 행정구별 칼국수 가격 평균')\n",
    "# 김밥\n",
    "kimbab_price_pivot_table = kimbab_table.pivot_table(\"상품가격(일반)(원)\",index=[\"행정구\"]).sort_values(by=\"상품가격(일반)(원)\")\n",
    "\n",
    "kimbab_price_pivot_table.plot(kind='bar', grid=True, figsize=(15,6))\n",
    "plt.title('각 행정구별 김밥 가격 평균')"
   ]
  },
  {
   "cell_type": "markdown",
   "metadata": {},
   "source": [
    "#### 별점 테이블\n",
    "\n",
    "naeng_star_pivot_table\n",
    "bi_star_pivot_table\n",
    "kimchi_star_pivot_table\n",
    "samgyeop_star_pivot_table\n",
    "ja_star_pivot_table\n",
    "kal_star_pivot_table\n",
    "kimbab_star_pivot_table\n",
    "\n",
    "#### 가격 테이블\n",
    "\n",
    "naeng_price_pivot_table\n",
    "bi_price_pivot_table\n",
    "kimchi_price_pivot_table\n",
    "samgyeop_price_pivot_table\n",
    "ja_price_pivot_table\n",
    "kal_price_pivot_table\n",
    "kimbab_price_pivot_table"
   ]
  },
  {
   "cell_type": "markdown",
   "metadata": {},
   "source": [
    "## 어느구가 저렴하고 평이 좋은가!!\n",
    "- 별점데이터의 평균\n",
    "- 가격 데이터의 평균을 /1000 하여 보정\n",
    "- 별점 - 가격 으로 결과 반환"
   ]
  },
  {
   "cell_type": "code",
   "execution_count": 61,
   "metadata": {
    "scrolled": true
   },
   "outputs": [
    {
     "data": {
      "text/html": [
       "<div>\n",
       "<style scoped>\n",
       "    .dataframe tbody tr th:only-of-type {\n",
       "        vertical-align: middle;\n",
       "    }\n",
       "\n",
       "    .dataframe tbody tr th {\n",
       "        vertical-align: top;\n",
       "    }\n",
       "\n",
       "    .dataframe thead th {\n",
       "        text-align: right;\n",
       "    }\n",
       "</style>\n",
       "<table border=\"1\" class=\"dataframe\">\n",
       "  <thead>\n",
       "    <tr style=\"text-align: right;\">\n",
       "      <th></th>\n",
       "      <th>별점</th>\n",
       "    </tr>\n",
       "    <tr>\n",
       "      <th>행정구</th>\n",
       "      <th></th>\n",
       "    </tr>\n",
       "  </thead>\n",
       "  <tbody>\n",
       "    <tr>\n",
       "      <th>강남구</th>\n",
       "      <td>4.311406</td>\n",
       "    </tr>\n",
       "    <tr>\n",
       "      <th>강동구</th>\n",
       "      <td>4.160000</td>\n",
       "    </tr>\n",
       "    <tr>\n",
       "      <th>강북구</th>\n",
       "      <td>4.090000</td>\n",
       "    </tr>\n",
       "    <tr>\n",
       "      <th>강서구</th>\n",
       "      <td>4.333889</td>\n",
       "    </tr>\n",
       "    <tr>\n",
       "      <th>관악구</th>\n",
       "      <td>4.399487</td>\n",
       "    </tr>\n",
       "    <tr>\n",
       "      <th>광진구</th>\n",
       "      <td>4.375417</td>\n",
       "    </tr>\n",
       "    <tr>\n",
       "      <th>구로구</th>\n",
       "      <td>4.397500</td>\n",
       "    </tr>\n",
       "    <tr>\n",
       "      <th>금천구</th>\n",
       "      <td>4.380909</td>\n",
       "    </tr>\n",
       "    <tr>\n",
       "      <th>노원구</th>\n",
       "      <td>4.278000</td>\n",
       "    </tr>\n",
       "    <tr>\n",
       "      <th>도봉구</th>\n",
       "      <td>4.333333</td>\n",
       "    </tr>\n",
       "    <tr>\n",
       "      <th>동대문구</th>\n",
       "      <td>4.320000</td>\n",
       "    </tr>\n",
       "    <tr>\n",
       "      <th>동작구</th>\n",
       "      <td>4.292500</td>\n",
       "    </tr>\n",
       "    <tr>\n",
       "      <th>마포구</th>\n",
       "      <td>4.346471</td>\n",
       "    </tr>\n",
       "    <tr>\n",
       "      <th>서대문구</th>\n",
       "      <td>4.403571</td>\n",
       "    </tr>\n",
       "    <tr>\n",
       "      <th>서초구</th>\n",
       "      <td>4.516667</td>\n",
       "    </tr>\n",
       "    <tr>\n",
       "      <th>성동구</th>\n",
       "      <td>4.385000</td>\n",
       "    </tr>\n",
       "    <tr>\n",
       "      <th>성북구</th>\n",
       "      <td>4.378889</td>\n",
       "    </tr>\n",
       "    <tr>\n",
       "      <th>송파구</th>\n",
       "      <td>4.340732</td>\n",
       "    </tr>\n",
       "    <tr>\n",
       "      <th>양천구</th>\n",
       "      <td>4.236000</td>\n",
       "    </tr>\n",
       "    <tr>\n",
       "      <th>영등포구</th>\n",
       "      <td>4.070909</td>\n",
       "    </tr>\n",
       "    <tr>\n",
       "      <th>용산구</th>\n",
       "      <td>4.355000</td>\n",
       "    </tr>\n",
       "    <tr>\n",
       "      <th>은평구</th>\n",
       "      <td>4.432857</td>\n",
       "    </tr>\n",
       "    <tr>\n",
       "      <th>종로구</th>\n",
       "      <td>4.294286</td>\n",
       "    </tr>\n",
       "    <tr>\n",
       "      <th>중구</th>\n",
       "      <td>4.326875</td>\n",
       "    </tr>\n",
       "    <tr>\n",
       "      <th>중랑구</th>\n",
       "      <td>4.279375</td>\n",
       "    </tr>\n",
       "  </tbody>\n",
       "</table>\n",
       "</div>"
      ],
      "text/plain": [
       "            별점\n",
       "행정구           \n",
       "강남구   4.311406\n",
       "강동구   4.160000\n",
       "강북구   4.090000\n",
       "강서구   4.333889\n",
       "관악구   4.399487\n",
       "광진구   4.375417\n",
       "구로구   4.397500\n",
       "금천구   4.380909\n",
       "노원구   4.278000\n",
       "도봉구   4.333333\n",
       "동대문구  4.320000\n",
       "동작구   4.292500\n",
       "마포구   4.346471\n",
       "서대문구  4.403571\n",
       "서초구   4.516667\n",
       "성동구   4.385000\n",
       "성북구   4.378889\n",
       "송파구   4.340732\n",
       "양천구   4.236000\n",
       "영등포구  4.070909\n",
       "용산구   4.355000\n",
       "은평구   4.432857\n",
       "종로구   4.294286\n",
       "중구    4.326875\n",
       "중랑구   4.279375"
      ]
     },
     "execution_count": 61,
     "metadata": {},
     "output_type": "execute_result"
    }
   ],
   "source": [
    "star_pivot_table = star_none_data.pivot_table(\"별점\",index=\"행정구\")\n",
    "star_pivot_table"
   ]
  },
  {
   "cell_type": "code",
   "execution_count": 66,
   "metadata": {},
   "outputs": [],
   "source": [
    "price_list = []"
   ]
  },
  {
   "cell_type": "code",
   "execution_count": 67,
   "metadata": {},
   "outputs": [
    {
     "data": {
      "text/plain": [
       "[      상품가격(일반)(원)\n",
       " 행정구              \n",
       " 양천구   3000.000000\n",
       " 성북구   3750.000000\n",
       " 노원구   4250.000000\n",
       " 강서구   4285.714286\n",
       " 구로구   4333.333333\n",
       " 강동구   4500.000000\n",
       " 광진구   4500.000000\n",
       " 서대문구  4500.000000\n",
       " 송파구   4615.384615\n",
       " 중랑구   4750.000000\n",
       " 금천구   5000.000000\n",
       " 강북구   5000.000000\n",
       " 동대문구  5000.000000\n",
       " 마포구   5375.000000\n",
       " 관악구   5380.000000\n",
       " 도봉구   5500.000000\n",
       " 은평구   5500.000000\n",
       " 용산구   5750.000000\n",
       " 중구    6000.000000\n",
       " 성동구   7000.000000\n",
       " 동작구   7500.000000,\n",
       "       상품가격(일반)(원)\n",
       " 행정구              \n",
       " 중랑구   3950.000000\n",
       " 양천구   4000.000000\n",
       " 송파구   4400.000000\n",
       " 강서구   4500.000000\n",
       " 구로구   5000.000000\n",
       " 금천구   5000.000000\n",
       " 관악구   5112.500000\n",
       " 광진구   5500.000000\n",
       " 마포구   5900.000000\n",
       " 도봉구   6000.000000\n",
       " 동작구   6000.000000\n",
       " 용산구   6000.000000\n",
       " 종로구   6000.000000\n",
       " 강남구   6181.818182\n",
       " 중구    6750.000000\n",
       " 영등포구  7000.000000,\n",
       "       상품가격(일반)(원)\n",
       " 행정구              \n",
       " 송파구   4700.000000\n",
       " 노원구   5000.000000\n",
       " 서대문구  5000.000000\n",
       " 강북구   5000.000000\n",
       " 동대문구  5000.000000\n",
       " 구로구   5000.000000\n",
       " 양천구   5250.000000\n",
       " 광진구   5250.000000\n",
       " 영등포구  5400.000000\n",
       " 종로구   5500.000000\n",
       " 서초구   5666.666667\n",
       " 중랑구   5800.000000\n",
       " 도봉구   5900.000000\n",
       " 관악구   5914.285714\n",
       " 금천구   6000.000000\n",
       " 강서구   6000.000000\n",
       " 용산구   6166.666667\n",
       " 강남구   6346.153846\n",
       " 중구    6400.000000\n",
       " 마포구   6400.000000\n",
       " 동작구   7000.000000\n",
       " 은평구   7500.000000\n",
       " 강동구   9500.000000,\n",
       "       상품가격(일반)(원)\n",
       " 행정구              \n",
       " 성북구   2500.000000\n",
       " 양천구   2666.666667\n",
       " 도봉구   2983.333333\n",
       " 동대문구  3000.000000\n",
       " 중랑구   3000.000000\n",
       " 서대문구  3166.666667\n",
       " 금천구   3250.000000\n",
       " 송파구   3416.666667\n",
       " 성동구   3500.000000\n",
       " 노원구   3625.000000\n",
       " 구로구   3750.000000\n",
       " 광진구   3900.000000\n",
       " 관악구   4250.000000\n",
       " 영등포구  4500.000000\n",
       " 동작구   5000.000000\n",
       " 강서구   5000.000000\n",
       " 강남구   5100.000000\n",
       " 중구    5750.000000,\n",
       "       상품가격(일반)(원)\n",
       " 행정구              \n",
       " 양천구   2900.000000\n",
       " 광진구   3000.000000\n",
       " 마포구   3000.000000\n",
       " 노원구   3900.000000\n",
       " 동대문구  4000.000000\n",
       " 송파구   4000.000000\n",
       " 강서구   4250.000000\n",
       " 중랑구   4333.333333\n",
       " 금천구   4500.000000\n",
       " 도봉구   4500.000000\n",
       " 서대문구  4500.000000\n",
       " 구로구   4642.857143\n",
       " 동작구   4666.666667\n",
       " 용산구   4800.000000\n",
       " 성동구   5000.000000\n",
       " 성북구   5166.666667\n",
       " 관악구   5380.000000\n",
       " 중구    6000.000000\n",
       " 강남구   6125.000000]"
      ]
     },
     "execution_count": 67,
     "metadata": {},
     "output_type": "execute_result"
    }
   ],
   "source": [
    "price_list = [naeng_price_pivot_table,bi_price_pivot_table,kimchi_price_pivot_table,ja_price_pivot_table,kal_price_pivot_table]\n",
    "price_list"
   ]
  },
  {
   "cell_type": "code",
   "execution_count": 68,
   "metadata": {
    "scrolled": true
   },
   "outputs": [
    {
     "data": {
      "text/html": [
       "<div>\n",
       "<style scoped>\n",
       "    .dataframe tbody tr th:only-of-type {\n",
       "        vertical-align: middle;\n",
       "    }\n",
       "\n",
       "    .dataframe tbody tr th {\n",
       "        vertical-align: top;\n",
       "    }\n",
       "\n",
       "    .dataframe thead th {\n",
       "        text-align: right;\n",
       "    }\n",
       "</style>\n",
       "<table border=\"1\" class=\"dataframe\">\n",
       "  <thead>\n",
       "    <tr style=\"text-align: right;\">\n",
       "      <th></th>\n",
       "      <th>상품가격(일반)(원)</th>\n",
       "    </tr>\n",
       "    <tr>\n",
       "      <th>행정구</th>\n",
       "      <th></th>\n",
       "    </tr>\n",
       "  </thead>\n",
       "  <tbody>\n",
       "    <tr>\n",
       "      <th>양천구</th>\n",
       "      <td>3000.000000</td>\n",
       "    </tr>\n",
       "    <tr>\n",
       "      <th>성북구</th>\n",
       "      <td>3750.000000</td>\n",
       "    </tr>\n",
       "    <tr>\n",
       "      <th>노원구</th>\n",
       "      <td>4250.000000</td>\n",
       "    </tr>\n",
       "    <tr>\n",
       "      <th>강서구</th>\n",
       "      <td>4285.714286</td>\n",
       "    </tr>\n",
       "    <tr>\n",
       "      <th>구로구</th>\n",
       "      <td>4333.333333</td>\n",
       "    </tr>\n",
       "    <tr>\n",
       "      <th>...</th>\n",
       "      <td>...</td>\n",
       "    </tr>\n",
       "    <tr>\n",
       "      <th>성동구</th>\n",
       "      <td>5000.000000</td>\n",
       "    </tr>\n",
       "    <tr>\n",
       "      <th>성북구</th>\n",
       "      <td>5166.666667</td>\n",
       "    </tr>\n",
       "    <tr>\n",
       "      <th>관악구</th>\n",
       "      <td>5380.000000</td>\n",
       "    </tr>\n",
       "    <tr>\n",
       "      <th>중구</th>\n",
       "      <td>6000.000000</td>\n",
       "    </tr>\n",
       "    <tr>\n",
       "      <th>강남구</th>\n",
       "      <td>6125.000000</td>\n",
       "    </tr>\n",
       "  </tbody>\n",
       "</table>\n",
       "<p>97 rows × 1 columns</p>\n",
       "</div>"
      ],
      "text/plain": [
       "     상품가격(일반)(원)\n",
       "행정구             \n",
       "양천구  3000.000000\n",
       "성북구  3750.000000\n",
       "노원구  4250.000000\n",
       "강서구  4285.714286\n",
       "구로구  4333.333333\n",
       "..           ...\n",
       "성동구  5000.000000\n",
       "성북구  5166.666667\n",
       "관악구  5380.000000\n",
       "중구   6000.000000\n",
       "강남구  6125.000000\n",
       "\n",
       "[97 rows x 1 columns]"
      ]
     },
     "execution_count": 68,
     "metadata": {},
     "output_type": "execute_result"
    }
   ],
   "source": [
    "price_pivot_table = pd.concat(price_list)\n",
    "price_pivot_table"
   ]
  },
  {
   "cell_type": "code",
   "execution_count": 70,
   "metadata": {
    "scrolled": true
   },
   "outputs": [],
   "source": [
    "# 삼겹살, 김밥 있고 없고의 차이가 커서 같아서 제외하고 평균\n",
    "price_pivot_table = price_pivot_table.pivot_table(\"상품가격(일반)(원)\",index=\"행정구\")"
   ]
  },
  {
   "cell_type": "code",
   "execution_count": 71,
   "metadata": {
    "scrolled": true
   },
   "outputs": [
    {
     "data": {
      "text/html": [
       "<div>\n",
       "<style scoped>\n",
       "    .dataframe tbody tr th:only-of-type {\n",
       "        vertical-align: middle;\n",
       "    }\n",
       "\n",
       "    .dataframe tbody tr th {\n",
       "        vertical-align: top;\n",
       "    }\n",
       "\n",
       "    .dataframe thead th {\n",
       "        text-align: right;\n",
       "    }\n",
       "</style>\n",
       "<table border=\"1\" class=\"dataframe\">\n",
       "  <thead>\n",
       "    <tr style=\"text-align: right;\">\n",
       "      <th></th>\n",
       "      <th>상품가격(일반)(원)</th>\n",
       "    </tr>\n",
       "    <tr>\n",
       "      <th>행정구</th>\n",
       "      <th></th>\n",
       "    </tr>\n",
       "  </thead>\n",
       "  <tbody>\n",
       "    <tr>\n",
       "      <th>강남구</th>\n",
       "      <td>5938.243007</td>\n",
       "    </tr>\n",
       "    <tr>\n",
       "      <th>강동구</th>\n",
       "      <td>7000.000000</td>\n",
       "    </tr>\n",
       "    <tr>\n",
       "      <th>강북구</th>\n",
       "      <td>5000.000000</td>\n",
       "    </tr>\n",
       "    <tr>\n",
       "      <th>강서구</th>\n",
       "      <td>4807.142857</td>\n",
       "    </tr>\n",
       "    <tr>\n",
       "      <th>관악구</th>\n",
       "      <td>5207.357143</td>\n",
       "    </tr>\n",
       "    <tr>\n",
       "      <th>광진구</th>\n",
       "      <td>4430.000000</td>\n",
       "    </tr>\n",
       "    <tr>\n",
       "      <th>구로구</th>\n",
       "      <td>4545.238095</td>\n",
       "    </tr>\n",
       "    <tr>\n",
       "      <th>금천구</th>\n",
       "      <td>4750.000000</td>\n",
       "    </tr>\n",
       "    <tr>\n",
       "      <th>노원구</th>\n",
       "      <td>4193.750000</td>\n",
       "    </tr>\n",
       "    <tr>\n",
       "      <th>도봉구</th>\n",
       "      <td>4976.666667</td>\n",
       "    </tr>\n",
       "    <tr>\n",
       "      <th>동대문구</th>\n",
       "      <td>4250.000000</td>\n",
       "    </tr>\n",
       "    <tr>\n",
       "      <th>동작구</th>\n",
       "      <td>6033.333333</td>\n",
       "    </tr>\n",
       "    <tr>\n",
       "      <th>마포구</th>\n",
       "      <td>5168.750000</td>\n",
       "    </tr>\n",
       "    <tr>\n",
       "      <th>서대문구</th>\n",
       "      <td>4291.666667</td>\n",
       "    </tr>\n",
       "    <tr>\n",
       "      <th>서초구</th>\n",
       "      <td>5666.666667</td>\n",
       "    </tr>\n",
       "    <tr>\n",
       "      <th>성동구</th>\n",
       "      <td>5166.666667</td>\n",
       "    </tr>\n",
       "    <tr>\n",
       "      <th>성북구</th>\n",
       "      <td>3805.555556</td>\n",
       "    </tr>\n",
       "    <tr>\n",
       "      <th>송파구</th>\n",
       "      <td>4226.410256</td>\n",
       "    </tr>\n",
       "    <tr>\n",
       "      <th>양천구</th>\n",
       "      <td>3563.333333</td>\n",
       "    </tr>\n",
       "    <tr>\n",
       "      <th>영등포구</th>\n",
       "      <td>5633.333333</td>\n",
       "    </tr>\n",
       "    <tr>\n",
       "      <th>용산구</th>\n",
       "      <td>5679.166667</td>\n",
       "    </tr>\n",
       "    <tr>\n",
       "      <th>은평구</th>\n",
       "      <td>6500.000000</td>\n",
       "    </tr>\n",
       "    <tr>\n",
       "      <th>종로구</th>\n",
       "      <td>5750.000000</td>\n",
       "    </tr>\n",
       "    <tr>\n",
       "      <th>중구</th>\n",
       "      <td>6180.000000</td>\n",
       "    </tr>\n",
       "    <tr>\n",
       "      <th>중랑구</th>\n",
       "      <td>4366.666667</td>\n",
       "    </tr>\n",
       "  </tbody>\n",
       "</table>\n",
       "</div>"
      ],
      "text/plain": [
       "      상품가격(일반)(원)\n",
       "행정구              \n",
       "강남구   5938.243007\n",
       "강동구   7000.000000\n",
       "강북구   5000.000000\n",
       "강서구   4807.142857\n",
       "관악구   5207.357143\n",
       "광진구   4430.000000\n",
       "구로구   4545.238095\n",
       "금천구   4750.000000\n",
       "노원구   4193.750000\n",
       "도봉구   4976.666667\n",
       "동대문구  4250.000000\n",
       "동작구   6033.333333\n",
       "마포구   5168.750000\n",
       "서대문구  4291.666667\n",
       "서초구   5666.666667\n",
       "성동구   5166.666667\n",
       "성북구   3805.555556\n",
       "송파구   4226.410256\n",
       "양천구   3563.333333\n",
       "영등포구  5633.333333\n",
       "용산구   5679.166667\n",
       "은평구   6500.000000\n",
       "종로구   5750.000000\n",
       "중구    6180.000000\n",
       "중랑구   4366.666667"
      ]
     },
     "execution_count": 71,
     "metadata": {},
     "output_type": "execute_result"
    }
   ],
   "source": [
    "price_pivot_table"
   ]
  },
  {
   "cell_type": "code",
   "execution_count": 74,
   "metadata": {},
   "outputs": [],
   "source": [
    "price_pivot_table[\"상품가격(일반)(원)\"] = price_pivot_table[\"상품가격(일반)(원)\"] / 1000"
   ]
  },
  {
   "cell_type": "code",
   "execution_count": 75,
   "metadata": {},
   "outputs": [
    {
     "name": "stdout",
     "output_type": "stream",
     "text": [
      "25\n",
      "25\n"
     ]
    }
   ],
   "source": [
    "print(len(star_pivot_table))\n",
    "print(len(price_pivot_table))"
   ]
  },
  {
   "cell_type": "code",
   "execution_count": 77,
   "metadata": {
    "scrolled": true
   },
   "outputs": [
    {
     "data": {
      "text/html": [
       "<div>\n",
       "<style scoped>\n",
       "    .dataframe tbody tr th:only-of-type {\n",
       "        vertical-align: middle;\n",
       "    }\n",
       "\n",
       "    .dataframe tbody tr th {\n",
       "        vertical-align: top;\n",
       "    }\n",
       "\n",
       "    .dataframe thead th {\n",
       "        text-align: right;\n",
       "    }\n",
       "</style>\n",
       "<table border=\"1\" class=\"dataframe\">\n",
       "  <thead>\n",
       "    <tr style=\"text-align: right;\">\n",
       "      <th></th>\n",
       "      <th>별점</th>\n",
       "    </tr>\n",
       "    <tr>\n",
       "      <th>행정구</th>\n",
       "      <th></th>\n",
       "    </tr>\n",
       "  </thead>\n",
       "  <tbody>\n",
       "    <tr>\n",
       "      <th>강남구</th>\n",
       "      <td>4.311406</td>\n",
       "    </tr>\n",
       "    <tr>\n",
       "      <th>강동구</th>\n",
       "      <td>4.160000</td>\n",
       "    </tr>\n",
       "    <tr>\n",
       "      <th>강북구</th>\n",
       "      <td>4.090000</td>\n",
       "    </tr>\n",
       "    <tr>\n",
       "      <th>강서구</th>\n",
       "      <td>4.333889</td>\n",
       "    </tr>\n",
       "    <tr>\n",
       "      <th>관악구</th>\n",
       "      <td>4.399487</td>\n",
       "    </tr>\n",
       "    <tr>\n",
       "      <th>광진구</th>\n",
       "      <td>4.375417</td>\n",
       "    </tr>\n",
       "    <tr>\n",
       "      <th>구로구</th>\n",
       "      <td>4.397500</td>\n",
       "    </tr>\n",
       "    <tr>\n",
       "      <th>금천구</th>\n",
       "      <td>4.380909</td>\n",
       "    </tr>\n",
       "    <tr>\n",
       "      <th>노원구</th>\n",
       "      <td>4.278000</td>\n",
       "    </tr>\n",
       "    <tr>\n",
       "      <th>도봉구</th>\n",
       "      <td>4.333333</td>\n",
       "    </tr>\n",
       "    <tr>\n",
       "      <th>동대문구</th>\n",
       "      <td>4.320000</td>\n",
       "    </tr>\n",
       "    <tr>\n",
       "      <th>동작구</th>\n",
       "      <td>4.292500</td>\n",
       "    </tr>\n",
       "    <tr>\n",
       "      <th>마포구</th>\n",
       "      <td>4.346471</td>\n",
       "    </tr>\n",
       "    <tr>\n",
       "      <th>서대문구</th>\n",
       "      <td>4.403571</td>\n",
       "    </tr>\n",
       "    <tr>\n",
       "      <th>서초구</th>\n",
       "      <td>4.516667</td>\n",
       "    </tr>\n",
       "    <tr>\n",
       "      <th>성동구</th>\n",
       "      <td>4.385000</td>\n",
       "    </tr>\n",
       "    <tr>\n",
       "      <th>성북구</th>\n",
       "      <td>4.378889</td>\n",
       "    </tr>\n",
       "    <tr>\n",
       "      <th>송파구</th>\n",
       "      <td>4.340732</td>\n",
       "    </tr>\n",
       "    <tr>\n",
       "      <th>양천구</th>\n",
       "      <td>4.236000</td>\n",
       "    </tr>\n",
       "    <tr>\n",
       "      <th>영등포구</th>\n",
       "      <td>4.070909</td>\n",
       "    </tr>\n",
       "    <tr>\n",
       "      <th>용산구</th>\n",
       "      <td>4.355000</td>\n",
       "    </tr>\n",
       "    <tr>\n",
       "      <th>은평구</th>\n",
       "      <td>4.432857</td>\n",
       "    </tr>\n",
       "    <tr>\n",
       "      <th>종로구</th>\n",
       "      <td>4.294286</td>\n",
       "    </tr>\n",
       "    <tr>\n",
       "      <th>중구</th>\n",
       "      <td>4.326875</td>\n",
       "    </tr>\n",
       "    <tr>\n",
       "      <th>중랑구</th>\n",
       "      <td>4.279375</td>\n",
       "    </tr>\n",
       "  </tbody>\n",
       "</table>\n",
       "</div>"
      ],
      "text/plain": [
       "            별점\n",
       "행정구           \n",
       "강남구   4.311406\n",
       "강동구   4.160000\n",
       "강북구   4.090000\n",
       "강서구   4.333889\n",
       "관악구   4.399487\n",
       "광진구   4.375417\n",
       "구로구   4.397500\n",
       "금천구   4.380909\n",
       "노원구   4.278000\n",
       "도봉구   4.333333\n",
       "동대문구  4.320000\n",
       "동작구   4.292500\n",
       "마포구   4.346471\n",
       "서대문구  4.403571\n",
       "서초구   4.516667\n",
       "성동구   4.385000\n",
       "성북구   4.378889\n",
       "송파구   4.340732\n",
       "양천구   4.236000\n",
       "영등포구  4.070909\n",
       "용산구   4.355000\n",
       "은평구   4.432857\n",
       "종로구   4.294286\n",
       "중구    4.326875\n",
       "중랑구   4.279375"
      ]
     },
     "execution_count": 77,
     "metadata": {},
     "output_type": "execute_result"
    },
    {
     "data": {
      "text/html": [
       "<div>\n",
       "<style scoped>\n",
       "    .dataframe tbody tr th:only-of-type {\n",
       "        vertical-align: middle;\n",
       "    }\n",
       "\n",
       "    .dataframe tbody tr th {\n",
       "        vertical-align: top;\n",
       "    }\n",
       "\n",
       "    .dataframe thead th {\n",
       "        text-align: right;\n",
       "    }\n",
       "</style>\n",
       "<table border=\"1\" class=\"dataframe\">\n",
       "  <thead>\n",
       "    <tr style=\"text-align: right;\">\n",
       "      <th></th>\n",
       "      <th>상품가격(일반)(원)</th>\n",
       "    </tr>\n",
       "    <tr>\n",
       "      <th>행정구</th>\n",
       "      <th></th>\n",
       "    </tr>\n",
       "  </thead>\n",
       "  <tbody>\n",
       "    <tr>\n",
       "      <th>강남구</th>\n",
       "      <td>5.938243</td>\n",
       "    </tr>\n",
       "    <tr>\n",
       "      <th>강동구</th>\n",
       "      <td>7.000000</td>\n",
       "    </tr>\n",
       "    <tr>\n",
       "      <th>강북구</th>\n",
       "      <td>5.000000</td>\n",
       "    </tr>\n",
       "    <tr>\n",
       "      <th>강서구</th>\n",
       "      <td>4.807143</td>\n",
       "    </tr>\n",
       "    <tr>\n",
       "      <th>관악구</th>\n",
       "      <td>5.207357</td>\n",
       "    </tr>\n",
       "    <tr>\n",
       "      <th>광진구</th>\n",
       "      <td>4.430000</td>\n",
       "    </tr>\n",
       "    <tr>\n",
       "      <th>구로구</th>\n",
       "      <td>4.545238</td>\n",
       "    </tr>\n",
       "    <tr>\n",
       "      <th>금천구</th>\n",
       "      <td>4.750000</td>\n",
       "    </tr>\n",
       "    <tr>\n",
       "      <th>노원구</th>\n",
       "      <td>4.193750</td>\n",
       "    </tr>\n",
       "    <tr>\n",
       "      <th>도봉구</th>\n",
       "      <td>4.976667</td>\n",
       "    </tr>\n",
       "    <tr>\n",
       "      <th>동대문구</th>\n",
       "      <td>4.250000</td>\n",
       "    </tr>\n",
       "    <tr>\n",
       "      <th>동작구</th>\n",
       "      <td>6.033333</td>\n",
       "    </tr>\n",
       "    <tr>\n",
       "      <th>마포구</th>\n",
       "      <td>5.168750</td>\n",
       "    </tr>\n",
       "    <tr>\n",
       "      <th>서대문구</th>\n",
       "      <td>4.291667</td>\n",
       "    </tr>\n",
       "    <tr>\n",
       "      <th>서초구</th>\n",
       "      <td>5.666667</td>\n",
       "    </tr>\n",
       "    <tr>\n",
       "      <th>성동구</th>\n",
       "      <td>5.166667</td>\n",
       "    </tr>\n",
       "    <tr>\n",
       "      <th>성북구</th>\n",
       "      <td>3.805556</td>\n",
       "    </tr>\n",
       "    <tr>\n",
       "      <th>송파구</th>\n",
       "      <td>4.226410</td>\n",
       "    </tr>\n",
       "    <tr>\n",
       "      <th>양천구</th>\n",
       "      <td>3.563333</td>\n",
       "    </tr>\n",
       "    <tr>\n",
       "      <th>영등포구</th>\n",
       "      <td>5.633333</td>\n",
       "    </tr>\n",
       "    <tr>\n",
       "      <th>용산구</th>\n",
       "      <td>5.679167</td>\n",
       "    </tr>\n",
       "    <tr>\n",
       "      <th>은평구</th>\n",
       "      <td>6.500000</td>\n",
       "    </tr>\n",
       "    <tr>\n",
       "      <th>종로구</th>\n",
       "      <td>5.750000</td>\n",
       "    </tr>\n",
       "    <tr>\n",
       "      <th>중구</th>\n",
       "      <td>6.180000</td>\n",
       "    </tr>\n",
       "    <tr>\n",
       "      <th>중랑구</th>\n",
       "      <td>4.366667</td>\n",
       "    </tr>\n",
       "  </tbody>\n",
       "</table>\n",
       "</div>"
      ],
      "text/plain": [
       "      상품가격(일반)(원)\n",
       "행정구              \n",
       "강남구      5.938243\n",
       "강동구      7.000000\n",
       "강북구      5.000000\n",
       "강서구      4.807143\n",
       "관악구      5.207357\n",
       "광진구      4.430000\n",
       "구로구      4.545238\n",
       "금천구      4.750000\n",
       "노원구      4.193750\n",
       "도봉구      4.976667\n",
       "동대문구     4.250000\n",
       "동작구      6.033333\n",
       "마포구      5.168750\n",
       "서대문구     4.291667\n",
       "서초구      5.666667\n",
       "성동구      5.166667\n",
       "성북구      3.805556\n",
       "송파구      4.226410\n",
       "양천구      3.563333\n",
       "영등포구     5.633333\n",
       "용산구      5.679167\n",
       "은평구      6.500000\n",
       "종로구      5.750000\n",
       "중구       6.180000\n",
       "중랑구      4.366667"
      ]
     },
     "execution_count": 77,
     "metadata": {},
     "output_type": "execute_result"
    }
   ],
   "source": [
    "star_pivot_table.sort_index()\n",
    "price_pivot_table.sort_index()"
   ]
  },
  {
   "cell_type": "code",
   "execution_count": 78,
   "metadata": {},
   "outputs": [
    {
     "data": {
      "text/html": [
       "<div>\n",
       "<style scoped>\n",
       "    .dataframe tbody tr th:only-of-type {\n",
       "        vertical-align: middle;\n",
       "    }\n",
       "\n",
       "    .dataframe tbody tr th {\n",
       "        vertical-align: top;\n",
       "    }\n",
       "\n",
       "    .dataframe thead th {\n",
       "        text-align: right;\n",
       "    }\n",
       "</style>\n",
       "<table border=\"1\" class=\"dataframe\">\n",
       "  <thead>\n",
       "    <tr style=\"text-align: right;\">\n",
       "      <th></th>\n",
       "      <th>별점</th>\n",
       "      <th>가격/1000</th>\n",
       "    </tr>\n",
       "    <tr>\n",
       "      <th>행정구</th>\n",
       "      <th></th>\n",
       "      <th></th>\n",
       "    </tr>\n",
       "  </thead>\n",
       "  <tbody>\n",
       "    <tr>\n",
       "      <th>강남구</th>\n",
       "      <td>4.311406</td>\n",
       "      <td>5.938243</td>\n",
       "    </tr>\n",
       "    <tr>\n",
       "      <th>강동구</th>\n",
       "      <td>4.160000</td>\n",
       "      <td>7.000000</td>\n",
       "    </tr>\n",
       "    <tr>\n",
       "      <th>강북구</th>\n",
       "      <td>4.090000</td>\n",
       "      <td>5.000000</td>\n",
       "    </tr>\n",
       "    <tr>\n",
       "      <th>강서구</th>\n",
       "      <td>4.333889</td>\n",
       "      <td>4.807143</td>\n",
       "    </tr>\n",
       "    <tr>\n",
       "      <th>관악구</th>\n",
       "      <td>4.399487</td>\n",
       "      <td>5.207357</td>\n",
       "    </tr>\n",
       "  </tbody>\n",
       "</table>\n",
       "</div>"
      ],
      "text/plain": [
       "           별점   가격/1000\n",
       "행정구                    \n",
       "강남구  4.311406  5.938243\n",
       "강동구  4.160000  7.000000\n",
       "강북구  4.090000  5.000000\n",
       "강서구  4.333889  4.807143\n",
       "관악구  4.399487  5.207357"
      ]
     },
     "execution_count": 78,
     "metadata": {},
     "output_type": "execute_result"
    }
   ],
   "source": [
    "result_table = star_pivot_table\n",
    "result_table['가격/1000'] = price_pivot_table['상품가격(일반)(원)']\n",
    "result_table.head()"
   ]
  },
  {
   "cell_type": "code",
   "execution_count": 93,
   "metadata": {},
   "outputs": [
    {
     "data": {
      "text/html": [
       "<div>\n",
       "<style scoped>\n",
       "    .dataframe tbody tr th:only-of-type {\n",
       "        vertical-align: middle;\n",
       "    }\n",
       "\n",
       "    .dataframe tbody tr th {\n",
       "        vertical-align: top;\n",
       "    }\n",
       "\n",
       "    .dataframe thead th {\n",
       "        text-align: right;\n",
       "    }\n",
       "</style>\n",
       "<table border=\"1\" class=\"dataframe\">\n",
       "  <thead>\n",
       "    <tr style=\"text-align: right;\">\n",
       "      <th></th>\n",
       "      <th>별점</th>\n",
       "      <th>가격/1000</th>\n",
       "      <th>점수</th>\n",
       "    </tr>\n",
       "    <tr>\n",
       "      <th>행정구</th>\n",
       "      <th></th>\n",
       "      <th></th>\n",
       "      <th></th>\n",
       "    </tr>\n",
       "  </thead>\n",
       "  <tbody>\n",
       "    <tr>\n",
       "      <th>강동구</th>\n",
       "      <td>4.160000</td>\n",
       "      <td>7.000000</td>\n",
       "      <td>0.160000</td>\n",
       "    </tr>\n",
       "    <tr>\n",
       "      <th>은평구</th>\n",
       "      <td>4.432857</td>\n",
       "      <td>6.500000</td>\n",
       "      <td>0.932857</td>\n",
       "    </tr>\n",
       "    <tr>\n",
       "      <th>중구</th>\n",
       "      <td>4.326875</td>\n",
       "      <td>6.180000</td>\n",
       "      <td>1.146875</td>\n",
       "    </tr>\n",
       "    <tr>\n",
       "      <th>동작구</th>\n",
       "      <td>4.292500</td>\n",
       "      <td>6.033333</td>\n",
       "      <td>1.259167</td>\n",
       "    </tr>\n",
       "    <tr>\n",
       "      <th>강남구</th>\n",
       "      <td>4.311406</td>\n",
       "      <td>5.938243</td>\n",
       "      <td>1.373163</td>\n",
       "    </tr>\n",
       "    <tr>\n",
       "      <th>영등포구</th>\n",
       "      <td>4.070909</td>\n",
       "      <td>5.633333</td>\n",
       "      <td>1.437576</td>\n",
       "    </tr>\n",
       "    <tr>\n",
       "      <th>종로구</th>\n",
       "      <td>4.294286</td>\n",
       "      <td>5.750000</td>\n",
       "      <td>1.544286</td>\n",
       "    </tr>\n",
       "    <tr>\n",
       "      <th>용산구</th>\n",
       "      <td>4.355000</td>\n",
       "      <td>5.679167</td>\n",
       "      <td>1.675833</td>\n",
       "    </tr>\n",
       "    <tr>\n",
       "      <th>서초구</th>\n",
       "      <td>4.516667</td>\n",
       "      <td>5.666667</td>\n",
       "      <td>1.850000</td>\n",
       "    </tr>\n",
       "    <tr>\n",
       "      <th>강북구</th>\n",
       "      <td>4.090000</td>\n",
       "      <td>5.000000</td>\n",
       "      <td>2.090000</td>\n",
       "    </tr>\n",
       "    <tr>\n",
       "      <th>마포구</th>\n",
       "      <td>4.346471</td>\n",
       "      <td>5.168750</td>\n",
       "      <td>2.177721</td>\n",
       "    </tr>\n",
       "    <tr>\n",
       "      <th>관악구</th>\n",
       "      <td>4.399487</td>\n",
       "      <td>5.207357</td>\n",
       "      <td>2.192130</td>\n",
       "    </tr>\n",
       "    <tr>\n",
       "      <th>성동구</th>\n",
       "      <td>4.385000</td>\n",
       "      <td>5.166667</td>\n",
       "      <td>2.218333</td>\n",
       "    </tr>\n",
       "    <tr>\n",
       "      <th>도봉구</th>\n",
       "      <td>4.333333</td>\n",
       "      <td>4.976667</td>\n",
       "      <td>2.356667</td>\n",
       "    </tr>\n",
       "    <tr>\n",
       "      <th>강서구</th>\n",
       "      <td>4.333889</td>\n",
       "      <td>4.807143</td>\n",
       "      <td>2.526746</td>\n",
       "    </tr>\n",
       "    <tr>\n",
       "      <th>금천구</th>\n",
       "      <td>4.380909</td>\n",
       "      <td>4.750000</td>\n",
       "      <td>2.630909</td>\n",
       "    </tr>\n",
       "    <tr>\n",
       "      <th>구로구</th>\n",
       "      <td>4.397500</td>\n",
       "      <td>4.545238</td>\n",
       "      <td>2.852262</td>\n",
       "    </tr>\n",
       "    <tr>\n",
       "      <th>중랑구</th>\n",
       "      <td>4.279375</td>\n",
       "      <td>4.366667</td>\n",
       "      <td>2.912708</td>\n",
       "    </tr>\n",
       "    <tr>\n",
       "      <th>광진구</th>\n",
       "      <td>4.375417</td>\n",
       "      <td>4.430000</td>\n",
       "      <td>2.945417</td>\n",
       "    </tr>\n",
       "    <tr>\n",
       "      <th>동대문구</th>\n",
       "      <td>4.320000</td>\n",
       "      <td>4.250000</td>\n",
       "      <td>3.070000</td>\n",
       "    </tr>\n",
       "    <tr>\n",
       "      <th>노원구</th>\n",
       "      <td>4.278000</td>\n",
       "      <td>4.193750</td>\n",
       "      <td>3.084250</td>\n",
       "    </tr>\n",
       "    <tr>\n",
       "      <th>서대문구</th>\n",
       "      <td>4.403571</td>\n",
       "      <td>4.291667</td>\n",
       "      <td>3.111905</td>\n",
       "    </tr>\n",
       "    <tr>\n",
       "      <th>송파구</th>\n",
       "      <td>4.340732</td>\n",
       "      <td>4.226410</td>\n",
       "      <td>3.114321</td>\n",
       "    </tr>\n",
       "    <tr>\n",
       "      <th>성북구</th>\n",
       "      <td>4.378889</td>\n",
       "      <td>3.805556</td>\n",
       "      <td>3.573333</td>\n",
       "    </tr>\n",
       "    <tr>\n",
       "      <th>양천구</th>\n",
       "      <td>4.236000</td>\n",
       "      <td>3.563333</td>\n",
       "      <td>3.672667</td>\n",
       "    </tr>\n",
       "  </tbody>\n",
       "</table>\n",
       "</div>"
      ],
      "text/plain": [
       "            별점   가격/1000        점수\n",
       "행정구                               \n",
       "강동구   4.160000  7.000000  0.160000\n",
       "은평구   4.432857  6.500000  0.932857\n",
       "중구    4.326875  6.180000  1.146875\n",
       "동작구   4.292500  6.033333  1.259167\n",
       "강남구   4.311406  5.938243  1.373163\n",
       "영등포구  4.070909  5.633333  1.437576\n",
       "종로구   4.294286  5.750000  1.544286\n",
       "용산구   4.355000  5.679167  1.675833\n",
       "서초구   4.516667  5.666667  1.850000\n",
       "강북구   4.090000  5.000000  2.090000\n",
       "마포구   4.346471  5.168750  2.177721\n",
       "관악구   4.399487  5.207357  2.192130\n",
       "성동구   4.385000  5.166667  2.218333\n",
       "도봉구   4.333333  4.976667  2.356667\n",
       "강서구   4.333889  4.807143  2.526746\n",
       "금천구   4.380909  4.750000  2.630909\n",
       "구로구   4.397500  4.545238  2.852262\n",
       "중랑구   4.279375  4.366667  2.912708\n",
       "광진구   4.375417  4.430000  2.945417\n",
       "동대문구  4.320000  4.250000  3.070000\n",
       "노원구   4.278000  4.193750  3.084250\n",
       "서대문구  4.403571  4.291667  3.111905\n",
       "송파구   4.340732  4.226410  3.114321\n",
       "성북구   4.378889  3.805556  3.573333\n",
       "양천구   4.236000  3.563333  3.672667"
      ]
     },
     "execution_count": 93,
     "metadata": {},
     "output_type": "execute_result"
    }
   ],
   "source": [
    "# 별점 - 가격의 값이 음수라 +3 으로 양수로 보정\n",
    "result_table['점수'] = result_table['별점'] - result_table['가격/1000'] + 3 \n",
    "result_table"
   ]
  },
  {
   "cell_type": "code",
   "execution_count": 94,
   "metadata": {},
   "outputs": [],
   "source": [
    "result_table.sort_values('점수', inplace=True)"
   ]
  },
  {
   "cell_type": "code",
   "execution_count": 95,
   "metadata": {},
   "outputs": [
    {
     "data": {
      "text/plain": [
       "<matplotlib.axes._subplots.AxesSubplot at 0x1b7b6e4ca90>"
      ]
     },
     "execution_count": 95,
     "metadata": {},
     "output_type": "execute_result"
    },
    {
     "data": {
      "text/plain": [
       "Text(0.5, 1.0, '각 행정구별 가성비 맛집 순위')"
      ]
     },
     "execution_count": 95,
     "metadata": {},
     "output_type": "execute_result"
    },
    {
     "data": {
      "image/png": "[encoded data removed]",
      "text/plain": [
       "<Figure size 1080x432 with 1 Axes>"
      ]
     },
     "metadata": {
      "needs_background": "light"
     },
     "output_type": "display_data"
    }
   ],
   "source": [
    "result_table['점수'].plot(kind='bar', grid=True, figsize=(15,6))\n",
    "plt.title('각 행정구별 가성비 맛집 순위')"
   ]
  },
  {
   "cell_type": "code",
   "execution_count": 87,
   "metadata": {},
   "outputs": [
    {
     "data": {
      "text/plain": [
       "<matplotlib.axes._subplots.AxesSubplot at 0x1b7b69b7220>"
      ]
     },
     "execution_count": 87,
     "metadata": {},
     "output_type": "execute_result"
    },
    {
     "data": {
      "text/plain": [
       "Text(0.5, 1.0, '각 행정구별 가성비 맛집 순위')"
      ]
     },
     "execution_count": 87,
     "metadata": {},
     "output_type": "execute_result"
    },
    {
     "data": {
      "text/plain": [
       "(-3.0, 1.0)"
      ]
     },
     "execution_count": 87,
     "metadata": {},
     "output_type": "execute_result"
    },
    {
     "data": {
      "image/png": "[encoded data removed]",
      "text/plain": [
       "<Figure size 1080x432 with 1 Axes>"
      ]
     },
     "metadata": {
      "needs_background": "light"
     },
     "output_type": "display_data"
    }
   ],
   "source": [
    "result_table['점수'].plot(kind='bar', grid=True, figsize=(15,6))\n",
    "plt.title('각 행정구별 가성비 맛집 순위')\n",
    "plt.ylim(-3,1)"
   ]
  }
 ],
 "metadata": {
  "kernelspec": {
   "display_name": "Python 3",
   "language": "python",
   "name": "python3"
  },
  "language_info": {
   "codemirror_mode": {
    "name": "ipython",
    "version": 3
   },
   "file_extension": ".py",
   "mimetype": "text/x-python",
   "name": "python",
   "nbconvert_exporter": "python",
   "pygments_lexer": "ipython3",
   "version": "3.8.3"
  }
 },
 "nbformat": 4,
 "nbformat_minor": 4
}
